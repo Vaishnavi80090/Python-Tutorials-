{
  "nbformat": 4,
  "nbformat_minor": 0,
  "metadata": {
    "colab": {
      "provenance": [],
      "include_colab_link": true
    },
    "kernelspec": {
      "name": "python3",
      "display_name": "Python 3"
    },
    "language_info": {
      "name": "python"
    }
  },
  "cells": [
    {
      "cell_type": "markdown",
      "metadata": {
        "id": "view-in-github",
        "colab_type": "text"
      },
      "source": [
        "<a href=\"https://colab.research.google.com/github/Vaishnavi80090/Python-Tutorials-/blob/main/README.Decision_Making_and_Loops_Learner.ipynb\" target=\"_parent\"><img src=\"https://colab.research.google.com/assets/colab-badge.svg\" alt=\"Open In Colab\"/></a>"
      ]
    },
    {
      "cell_type": "markdown",
      "source": [
        "# Decision Making\n",
        "Decision making in python is done using conditional statements to control the flow of execution of program "
      ],
      "metadata": {
        "id": "5VxfKpH3O0bf"
      }
    },
    {
      "cell_type": "markdown",
      "source": [
        "## if statement\n",
        "Program will evaluate the condition followed by if statement, if given condition is true, program will execute the block of code indented below if statement, if false it will move to next block of code."
      ],
      "metadata": {
        "id": "a7dIWp2oQPvh"
      }
    },
    {
      "cell_type": "markdown",
      "source": [
        "\n",
        "\n",
        "```\n",
        "#syntax of if statement\n",
        "if test expression:\n",
        "   statement 1\n",
        "   ....\n",
        "   statement n\n",
        "```\n",
        "\n",
        "\n"
      ],
      "metadata": {
        "id": "3Il4Xcans1SD"
      }
    },
    {
      "cell_type": "code",
      "source": [
        "## Write a Conditional Statement with True in if statement \n",
        "x=input(\"enter the sentence\")\n",
        "if x==\"A\":\n",
        "  print(\"Apple\")\n",
        "else:\n",
        "  print(\"donkey\")"
      ],
      "metadata": {
        "colab": {
          "base_uri": "https://localhost:8080/"
        },
        "id": "H9762z-IneEa",
        "outputId": "609e8c8a-96ba-4af2-d14e-275a25719546"
      },
      "execution_count": 19,
      "outputs": [
        {
          "output_type": "stream",
          "name": "stdout",
          "text": [
            "enter the sentenceA\n",
            "Apple\n"
          ]
        }
      ]
    },
    {
      "cell_type": "code",
      "source": [
        "## Write a Conditional Statement with False in if statement \n",
        "a=input(\"enten the statement\")\n",
        "if a==\"starplus\":\n",
        "  print(\"its my on the way\")\n",
        "else:\n",
        "  print(\"its off the way\")\n"
      ],
      "metadata": {
        "colab": {
          "base_uri": "https://localhost:8080/"
        },
        "id": "woSqbWQr7fgi",
        "outputId": "f4432c57-661c-40f8-c9c1-e2ccdfe845e9"
      },
      "execution_count": 21,
      "outputs": [
        {
          "output_type": "stream",
          "name": "stdout",
          "text": [
            "enten the statementemagine\n",
            "its off the way\n"
          ]
        }
      ]
    },
    {
      "cell_type": "code",
      "source": [
        "## Write a Conditional Statement with 1 in if statement \n",
        "x=int(input(\"enter the value\"))\n",
        "if x==1:\n",
        "  print(\"its ok\")\n",
        "else :\n",
        "  print(\"its not okh\")\n"
      ],
      "metadata": {
        "colab": {
          "base_uri": "https://localhost:8080/"
        },
        "id": "UXfVc41c9ZjJ",
        "outputId": "011e6fc1-4361-41d0-9e04-ebe5037b9e4c"
      },
      "execution_count": 23,
      "outputs": [
        {
          "output_type": "stream",
          "name": "stdout",
          "text": [
            "enter the value1\n",
            "its ok\n"
          ]
        }
      ]
    },
    {
      "cell_type": "code",
      "source": [
        "## Write a Conditional Statement with 0 in if statement \n",
        "t=0\n",
        "if t==0:\n",
        "  print(\"its false\")\n",
        "else:\n",
        "  print(\"its true\")\n",
        "\n"
      ],
      "metadata": {
        "colab": {
          "base_uri": "https://localhost:8080/"
        },
        "id": "oEmK19V09mPi",
        "outputId": "f8a63307-848e-4465-8f30-15456784763c"
      },
      "execution_count": 25,
      "outputs": [
        {
          "output_type": "stream",
          "name": "stdout",
          "text": [
            "its false\n"
          ]
        }
      ]
    },
    {
      "cell_type": "code",
      "source": [
        "## Write a Conditional Statement with -1 in if statement \n",
        "y=-1 \n",
        "if y==-1:\n",
        "  print(\"its y\")\n",
        "else:\n",
        "  print(\"its n\")"
      ],
      "metadata": {
        "id": "kqfsew0r9yKB",
        "outputId": "feeee106-1dc0-49bf-de92-8cf40f18b705",
        "colab": {
          "base_uri": "https://localhost:8080/"
        }
      },
      "execution_count": 26,
      "outputs": [
        {
          "output_type": "stream",
          "name": "stdout",
          "text": [
            "its y\n"
          ]
        }
      ]
    },
    {
      "cell_type": "code",
      "source": [
        "## Write a Conditional Statement to check if 60 is greater than 50\n",
        "t=int(input(\"enter the value\"))\n",
        "if t>50:\n",
        "  print(\"its accurate\")\n",
        "else:\n",
        "  print(\"its lesser\")"
      ],
      "metadata": {
        "colab": {
          "base_uri": "https://localhost:8080/"
        },
        "id": "m2AZQ89d65ob",
        "outputId": "1a7dc487-eb87-40a7-bc41-e1b50e0b7af8"
      },
      "execution_count": 27,
      "outputs": [
        {
          "output_type": "stream",
          "name": "stdout",
          "text": [
            "enter the value34\n",
            "its lesser\n"
          ]
        }
      ]
    },
    {
      "cell_type": "code",
      "execution_count": 29,
      "metadata": {
        "colab": {
          "base_uri": "https://localhost:8080/"
        },
        "id": "BMJDcPPFNEWn",
        "outputId": "cbf6f3e6-3435-4d08-d1a5-aaf15909e9db"
      },
      "outputs": [
        {
          "output_type": "stream",
          "name": "stdout",
          "text": [
            "enter the num75\n",
            "enter the num50\n",
            "a is greater than b\n"
          ]
        }
      ],
      "source": [
        "# check if variable a which is of integer 60 is greater than variable b which is of 50\n",
        "a=int(input(\"enter the num\"))\n",
        "b=int(input(\"enter the num\"))\n",
        "if a>b:\n",
        "  print(\"a is greater than b\")\n",
        "else:\n",
        "  print(\"a is lesser than b\")"
      ]
    },
    {
      "cell_type": "code",
      "source": [
        "# check if variable a which is of integer 60 is greater than variable b which is of 150\n",
        "a=int(input(\"enter the num\"))\n",
        "b=int(input(\"enter the num\"))\n",
        "if a>b:\n",
        "  print(\"a is greater than b\")\n",
        "else:\n",
        "  print(\"a is lesser than b\")"
      ],
      "metadata": {
        "id": "8gGczaeJ8Elb",
        "colab": {
          "base_uri": "https://localhost:8080/"
        },
        "outputId": "d01900a2-3a97-4a26-fe7c-d2f7227a294b"
      },
      "execution_count": 32,
      "outputs": [
        {
          "output_type": "stream",
          "name": "stdout",
          "text": [
            "enter the num60\n",
            "enter the num150\n",
            "a is lesser than b\n"
          ]
        }
      ]
    },
    {
      "cell_type": "code",
      "source": [
        "## From the list if 10 is part of it\n",
        "l = [10, 20, 30, 'Relevel']\n",
        "for i in l:\n",
        "  if i==10:\n",
        "    print(l)\n",
        "\n"
      ],
      "metadata": {
        "colab": {
          "base_uri": "https://localhost:8080/"
        },
        "id": "ZJvchaqFkqa-",
        "outputId": "7a79c035-18f8-4a19-db92-733875e4e662"
      },
      "execution_count": 35,
      "outputs": [
        {
          "output_type": "stream",
          "name": "stdout",
          "text": [
            "[10, 20, 30, 'Relevel']\n"
          ]
        }
      ]
    },
    {
      "cell_type": "code",
      "source": [
        "## Check if 'Maharashtra' is in the Dict\n",
        "cities = {'Maharashtra': 'Mumbai', 'Tamil Nadu': 'Chennai', 'Rajasthan': 'Jaipur', 'Punjab': 'Chandigarh', 'Haryana': 'Chandigarh'}\n",
        "for i in cities.keys():\n",
        "  if i=='Maharashtra':\n",
        "          print(list(cities.keys()))\n",
        "\n"
      ],
      "metadata": {
        "colab": {
          "base_uri": "https://localhost:8080/"
        },
        "id": "wL959taBmV28",
        "outputId": "2a57cbc9-1a52-489e-ef15-b0b3414fc0e7"
      },
      "execution_count": 40,
      "outputs": [
        {
          "output_type": "stream",
          "name": "stdout",
          "text": [
            "['Maharashtra', 'Tamil Nadu', 'Rajasthan', 'Punjab', 'Haryana']\n"
          ]
        }
      ]
    },
    {
      "cell_type": "markdown",
      "source": [
        "## If else statement\n",
        "\n",
        "Program will evaluate the condition followed by if statement, if given condition is true, program will execute the block of code indented below if statement, if false it will execute else block of statement.\n"
      ],
      "metadata": {
        "id": "oWxW8AyxeCXu"
      }
    },
    {
      "cell_type": "markdown",
      "source": [
        "\n",
        "\n",
        "```\n",
        "#syntax of if else statement\n",
        "if test expression:\n",
        "  condition 1\n",
        "  ....\n",
        "  condition n\n",
        "else:\n",
        "  condition 1\n",
        "  ....\n",
        "  condition n\n",
        "```\n",
        "\n"
      ],
      "metadata": {
        "id": "p5vHDLFZtZMt"
      }
    },
    {
      "cell_type": "code",
      "source": [
        "# Check if the price is less than 50\n",
        "price = 100\n",
        "if price<50:\n",
        "  print(\"price is lesser\")\n",
        "else:\n",
        "  print(\"price is more\")\n",
        "\n"
      ],
      "metadata": {
        "colab": {
          "base_uri": "https://localhost:8080/"
        },
        "id": "2ZjoUzlVed6F",
        "outputId": "682fbe87-2666-45bd-fcbf-379f22d4c757"
      },
      "execution_count": 41,
      "outputs": [
        {
          "output_type": "stream",
          "name": "stdout",
          "text": [
            "price is more\n"
          ]
        }
      ]
    },
    {
      "cell_type": "code",
      "source": [
        "## From the list if 10 is part of it else print that it does not exist\n",
        "l = [10, 20, 30, 'Relevel']\n",
        "for i in l:\n",
        "  if i==100:\n",
        "    print(\"list has 100\")\n",
        "  else:\n",
        "    print(\"list does not have 100 value\")"
      ],
      "metadata": {
        "colab": {
          "base_uri": "https://localhost:8080/"
        },
        "id": "Gh-oC0hblDXE",
        "outputId": "635bda1c-58f7-4fa5-f9e5-3a0e2fe46149"
      },
      "execution_count": 42,
      "outputs": [
        {
          "output_type": "stream",
          "name": "stdout",
          "text": [
            "list does not have 100 value\n",
            "list does not have 100 value\n",
            "list does not have 100 value\n",
            "list does not have 100 value\n"
          ]
        }
      ]
    },
    {
      "cell_type": "code",
      "source": [
        "## Check if 'Maharashtra' is in the Dict else print that it does not exist\n",
        "cities = {'Maharashtra': 'Mumbai', 'Tamil Nadu': 'Chennai', 'Rajasthan': 'Jaipur', 'Punjab': 'Chandigarh', 'Haryana': 'Chandigarh'}\n",
        "for i in cities.keys():\n",
        "  if i=='Maharashtra':\n",
        "    print(\"it exist\")\n",
        "  else:\n",
        "    print(\"it doesn't exist\")\n"
      ],
      "metadata": {
        "colab": {
          "base_uri": "https://localhost:8080/"
        },
        "id": "Kz7vptRom_WC",
        "outputId": "bb5dd70f-8dba-4778-8faa-ed442b83a2cc"
      },
      "execution_count": 43,
      "outputs": [
        {
          "output_type": "stream",
          "name": "stdout",
          "text": [
            "it exist\n",
            "it doesn't exist\n",
            "it doesn't exist\n",
            "it doesn't exist\n",
            "it doesn't exist\n"
          ]
        }
      ]
    },
    {
      "cell_type": "markdown",
      "source": [
        "## Nested if else Statement\n",
        "\n",
        "Program will evaluate the condition followed by if statement, if given condition is true, program will execute the block of code indented below if statement, othwerwise it will move to next block of elif statements till one of the elif condition is met."
      ],
      "metadata": {
        "id": "PjeTC8AenVfz"
      }
    },
    {
      "cell_type": "markdown",
      "source": [
        "\n",
        "\n",
        "```\n",
        "#syntax of nested if-else statement\n",
        "if test expression:\n",
        "  condition 1\n",
        "  ....\n",
        "  condition n\n",
        "elif:\n",
        "  condition 1\n",
        "  ....\n",
        "elif:\n",
        "  condition 1\n",
        "  ...\n",
        "else:\n",
        "  condition 1\n",
        "  ...\n",
        "```\n",
        "\n"
      ],
      "metadata": {
        "id": "Jugxa1Vmt622"
      }
    },
    {
      "cell_type": "code",
      "source": [
        "# Find that given integer is positive, negative or Zero.\n",
        "number = -2\n",
        "if number>0:\n",
        "  print(\"poisitive\")\n",
        "elif number<0:\n",
        "  print(\"negative\")\n",
        "else:\n",
        "  print(\"zero\")\n",
        "\n",
        "\n",
        "\n",
        "\n"
      ],
      "metadata": {
        "colab": {
          "base_uri": "https://localhost:8080/"
        },
        "id": "JoRxeSPGwpqx",
        "outputId": "cd91c3c2-b73d-430e-a61b-b3fd5a59df71"
      },
      "execution_count": 1,
      "outputs": [
        {
          "output_type": "stream",
          "name": "stdout",
          "text": [
            "negative\n"
          ]
        }
      ]
    },
    {
      "cell_type": "code",
      "source": [
        "## From the list if 100, 'relevel', 'Relevel' is part of it else print that it does not exist\n",
        "l = [10, 20, 30, 'Relevel']\n",
        "for i in l:\n",
        "  if i=='Relevel':\n",
        "    print('list has relevel value')\n",
        "  else:\n",
        "    print('it does not exist')\n",
        "\n"
      ],
      "metadata": {
        "colab": {
          "base_uri": "https://localhost:8080/"
        },
        "id": "lFX6Khq2lWiE",
        "outputId": "e438a708-9c12-4f3f-8c68-eaeac8a7080f"
      },
      "execution_count": 2,
      "outputs": [
        {
          "output_type": "stream",
          "name": "stdout",
          "text": [
            "it does not exist\n",
            "it does not exist\n",
            "it does not exist\n",
            "list has relevel value\n"
          ]
        }
      ]
    },
    {
      "cell_type": "markdown",
      "source": [
        "```\n",
        "if ( test condition 1):\n",
        "    # If test condition 1 is TRUE, then it checks for test condition 2\n",
        "    if ( test condition 2):\n",
        "         # If test condition 2 is TRUE, then these true lines executed\n",
        "         Test condition 2 True statements\n",
        "    else:\n",
        "         # If test condition 2 is FALSE, then these false lines executed\n",
        "         Test condition 2 False statements\n",
        "else:\n",
        "    # If test condition 1 is FALSE, then these lines executed\n",
        "    Test condition 1 False lines\n",
        "```"
      ],
      "metadata": {
        "id": "QQY_QOh3pOjA"
      }
    },
    {
      "cell_type": "code",
      "source": [
        "# Example for Python Nested If\n",
        "\n",
        "age = int(input(\" Please Enter Your Age Here:  \"))\n",
        "if age>21:\n",
        "  print(\"you should do a work\")\n",
        "elif age>60 and age<78:\n",
        "  print(\"you want to get retirement\")\n",
        "else:\n",
        "  print(\"you want too take a pension\")\n"
      ],
      "metadata": {
        "colab": {
          "base_uri": "https://localhost:8080/"
        },
        "id": "KgyBLUkAoo_z",
        "outputId": "1b63e547-aeff-49ae-dd85-0c84af80d33d"
      },
      "execution_count": 3,
      "outputs": [
        {
          "output_type": "stream",
          "name": "stdout",
          "text": [
            " Please Enter Your Age Here:  35\n",
            "you should do a work\n"
          ]
        }
      ]
    },
    {
      "cell_type": "markdown",
      "source": [
        "# Loops and Iterations\n",
        "Loops statements help to iterate over a block of code using a condition or iterable object."
      ],
      "metadata": {
        "id": "81hoKhJZx5Kn"
      }
    },
    {
      "cell_type": "markdown",
      "source": [
        "## For Loop\n",
        "For loop is used to iterate over an iterable object like list, string, tuple, sets etc."
      ],
      "metadata": {
        "id": "vrWMoR1CzPka"
      }
    },
    {
      "cell_type": "markdown",
      "source": [
        "\n",
        "\n",
        "```\n",
        "#syntax of for loop\n",
        "for [item] in [iterable object]:\n",
        "  statement 1\n",
        "  ...\n",
        "  statement n\n",
        "```\n",
        "\n"
      ],
      "metadata": {
        "id": "SHsdcqxEzqgF"
      }
    },
    {
      "cell_type": "code",
      "source": [
        "## Sum all the values of the list\n",
        "\n",
        "l = [5, 1, 7, 3]\n",
        "a=0\n",
        "for i in l:\n",
        "  a=a+i\n",
        "print(\"sum is\",a)\n",
        "\n",
        "# Method 1\n"
      ],
      "metadata": {
        "colab": {
          "base_uri": "https://localhost:8080/"
        },
        "id": "PdnbactOwCRr",
        "outputId": "ac6612eb-990d-4ec0-dfdd-fad3998a221e"
      },
      "execution_count": 7,
      "outputs": [
        {
          "output_type": "stream",
          "name": "stdout",
          "text": [
            "sum is 16\n"
          ]
        }
      ]
    },
    {
      "cell_type": "code",
      "source": [
        "## Sum all the values of the list using For Loop\n",
        "\n",
        "l = [5, 1, 7, 3]\n",
        "sum = 0\n",
        "for i in l:\n",
        "  sum=sum+i\n",
        "print(sum)\n"
      ],
      "metadata": {
        "colab": {
          "base_uri": "https://localhost:8080/"
        },
        "id": "McktnxzJxUvb",
        "outputId": "99986529-b03a-4eb7-8087-e7fb79c8a71b"
      },
      "execution_count": 8,
      "outputs": [
        {
          "output_type": "stream",
          "name": "stdout",
          "text": [
            "16\n"
          ]
        }
      ]
    },
    {
      "cell_type": "code",
      "source": [
        "#print all the letters one by one in the word Relevel\n",
        "num='Relevel'\n",
        "for i in num:\n",
        "  print(i)"
      ],
      "metadata": {
        "id": "wAxlIOsczkoS",
        "colab": {
          "base_uri": "https://localhost:8080/"
        },
        "outputId": "68d9310f-8db7-4642-ce9d-26a40be9e693"
      },
      "execution_count": 9,
      "outputs": [
        {
          "output_type": "stream",
          "name": "stdout",
          "text": [
            "R\n",
            "e\n",
            "l\n",
            "e\n",
            "v\n",
            "e\n",
            "l\n"
          ]
        }
      ]
    },
    {
      "cell_type": "code",
      "source": [
        "# Iterate all the values of the states from the Dict\n",
        "cities = {'Maharashtra': 'Mumbai', 'Tamil Nadu': 'Chennai', 'Rajasthan': 'Jaipur', 'Punjab': 'Chandigarh', 'Haryana': 'Chandigarh'}\n",
        "for i in cities.values():\n",
        "  print(i)\n"
      ],
      "metadata": {
        "colab": {
          "base_uri": "https://localhost:8080/"
        },
        "id": "sebxLxz7r_hZ",
        "outputId": "6bcaf401-8cb1-41dd-bdee-77765e5ab6c2"
      },
      "execution_count": 10,
      "outputs": [
        {
          "output_type": "stream",
          "name": "stdout",
          "text": [
            "Mumbai\n",
            "Chennai\n",
            "Jaipur\n",
            "Chandigarh\n",
            "Chandigarh\n"
          ]
        }
      ]
    },
    {
      "cell_type": "code",
      "source": [
        "# Iterate all the values of the states and cities from the Dict\n",
        "for i in cities.items():\n",
        "  print(i)"
      ],
      "metadata": {
        "colab": {
          "base_uri": "https://localhost:8080/"
        },
        "id": "-cAlo9HUsGNs",
        "outputId": "8873641f-4c4f-4a69-a35c-2fb169aa9102"
      },
      "execution_count": 11,
      "outputs": [
        {
          "output_type": "stream",
          "name": "stdout",
          "text": [
            "('Maharashtra', 'Mumbai')\n",
            "('Tamil Nadu', 'Chennai')\n",
            "('Rajasthan', 'Jaipur')\n",
            "('Punjab', 'Chandigarh')\n",
            "('Haryana', 'Chandigarh')\n"
          ]
        }
      ]
    },
    {
      "cell_type": "code",
      "source": [
        "# Iterate all the values of the states and cities from the Dict. Extract Key and Value seperately\n",
        "for key,values in cities.items():\n",
        "  print(\"key is\",key,\"value is\",values)"
      ],
      "metadata": {
        "colab": {
          "base_uri": "https://localhost:8080/"
        },
        "id": "pOotUqhWsLPf",
        "outputId": "a3a95639-3987-4e77-ac09-b0eb3b76f37f"
      },
      "execution_count": 14,
      "outputs": [
        {
          "output_type": "stream",
          "name": "stdout",
          "text": [
            "key is Maharashtra value is Mumbai\n",
            "key is Tamil Nadu value is Chennai\n",
            "key is Rajasthan value is Jaipur\n",
            "key is Punjab value is Chandigarh\n",
            "key is Haryana value is Chandigarh\n"
          ]
        }
      ]
    },
    {
      "cell_type": "code",
      "source": [
        "## Check if Nest_dict has a key \"Key_1\"\n",
        "Dummy_Dict = {'Key1': 'Value 1', 0: 1, 'Nested_dict': {'Key_1': 'V1', 'Key2': 2}, 'List_Values': [0, 1, 2, 3, 4]}\n",
        "print(Dummy_Dict['Nested_dict'].items())\n",
        "print(\"Nest_dict has a key \",Dummy_Dict['Key1'])\n"
      ],
      "metadata": {
        "colab": {
          "base_uri": "https://localhost:8080/"
        },
        "id": "FXBQ0gGG-uLw",
        "outputId": "41a92d88-1443-4364-b95f-351355becfa4"
      },
      "execution_count": 16,
      "outputs": [
        {
          "output_type": "stream",
          "name": "stdout",
          "text": [
            "dict_items([('Key_1', 'V1'), ('Key2', 2)])\n",
            "Nest_dict has a key  Value 1\n"
          ]
        }
      ]
    },
    {
      "cell_type": "code",
      "source": [
        "# Iterate all the values of the tuple\n",
        "t = (10, 20, 30, 'Relevel')\n",
        "for i in t:\n",
        "  print(i)\n"
      ],
      "metadata": {
        "colab": {
          "base_uri": "https://localhost:8080/"
        },
        "id": "MFCmrgf5swzY",
        "outputId": "cceb18fc-e0ec-4a2a-f7d4-1869f433b7d0"
      },
      "execution_count": 17,
      "outputs": [
        {
          "output_type": "stream",
          "name": "stdout",
          "text": [
            "10\n",
            "20\n",
            "30\n",
            "Relevel\n"
          ]
        }
      ]
    },
    {
      "cell_type": "code",
      "source": [
        "# Print the value from 1 to 10 using range function in for loop\n",
        "for i in range(1,10):\n",
        "  print(i)"
      ],
      "metadata": {
        "id": "bBIYvGUAuZev",
        "outputId": "654bd11e-6950-44c3-f263-0bc28f38fea6",
        "colab": {
          "base_uri": "https://localhost:8080/"
        }
      },
      "execution_count": 18,
      "outputs": [
        {
          "output_type": "stream",
          "name": "stdout",
          "text": [
            "1\n",
            "2\n",
            "3\n",
            "4\n",
            "5\n",
            "6\n",
            "7\n",
            "8\n",
            "9\n"
          ]
        }
      ]
    },
    {
      "cell_type": "code",
      "source": [
        "## Iterate following list as a set variable\n",
        "l = [1,2,2,3,3,4]\n",
        "set_var = l\n",
        "a=set(l)\n",
        "for i in a:\n",
        "  print(i)\n"
      ],
      "metadata": {
        "colab": {
          "base_uri": "https://localhost:8080/"
        },
        "id": "Kp1qkDw840L5",
        "outputId": "6e7ca272-e083-4257-9aea-9f03f1080ecc"
      },
      "execution_count": 19,
      "outputs": [
        {
          "output_type": "stream",
          "name": "stdout",
          "text": [
            "1\n",
            "2\n",
            "3\n",
            "4\n"
          ]
        }
      ]
    },
    {
      "cell_type": "markdown",
      "source": [
        "## While Loop\n",
        "While loop will execute the given block of code till the entered test condition is true"
      ],
      "metadata": {
        "id": "uwBiPdbf0h4M"
      }
    },
    {
      "cell_type": "markdown",
      "source": [
        "\n",
        "\n",
        "```\n",
        "# syntax for while loop\n",
        "While [condition true]:\n",
        "      statement 1\n",
        "      ...\n",
        "      statement n\n",
        "```\n",
        "\n"
      ],
      "metadata": {
        "id": "O2fzUFvAWtkA"
      }
    },
    {
      "cell_type": "code",
      "source": [
        "# print all integer from 1 to 5\n",
        "for i in range(1,6):\n",
        "  print(i)\n"
      ],
      "metadata": {
        "id": "ZdlmV2We1UYv",
        "colab": {
          "base_uri": "https://localhost:8080/"
        },
        "outputId": "422db6d6-6d3d-4573-cc0a-6103b8e2b0a8"
      },
      "execution_count": 20,
      "outputs": [
        {
          "output_type": "stream",
          "name": "stdout",
          "text": [
            "1\n",
            "2\n",
            "3\n",
            "4\n",
            "5\n"
          ]
        }
      ]
    },
    {
      "cell_type": "code",
      "source": [
        "a=0\n",
        "while a<5:\n",
        "  a=a+1\n",
        "  print(a)"
      ],
      "metadata": {
        "colab": {
          "base_uri": "https://localhost:8080/"
        },
        "id": "cNrfJwoldn0b",
        "outputId": "1f208c3b-86a2-4122-ca88-7f2e25db5d1c"
      },
      "execution_count": 22,
      "outputs": [
        {
          "output_type": "stream",
          "name": "stdout",
          "text": [
            "1\n",
            "2\n",
            "3\n",
            "4\n",
            "5\n"
          ]
        }
      ]
    },
    {
      "cell_type": "markdown",
      "source": [
        "Write a program to sum natural numbers up to n. <br>\n",
        "```sum = 1+2+3+...+n```"
      ],
      "metadata": {
        "id": "pDMzqh6ey7lh"
      }
    },
    {
      "cell_type": "code",
      "source": [
        "# Write a program to sum natural numbers up to n.\n",
        "# sum = 1+2+3+...+n\n",
        "\n",
        "n = 11\n",
        "\n",
        "# initialize sum and counter\n",
        "sum = 0\n",
        "for i in range(1,n):\n",
        "  sum=sum+i\n",
        "print(sum)\n",
        "\n"
      ],
      "metadata": {
        "colab": {
          "base_uri": "https://localhost:8080/"
        },
        "id": "JVWpeK-fzELX",
        "outputId": "7ad3034c-db9d-472a-aa63-9f3ee2891b5c"
      },
      "execution_count": 25,
      "outputs": [
        {
          "output_type": "stream",
          "name": "stdout",
          "text": [
            "55\n"
          ]
        }
      ]
    },
    {
      "cell_type": "code",
      "source": [
        "sum=0\n",
        "n=10\n",
        "i=0\n",
        "while i<n:\n",
        "  i=i+1\n",
        "  sum=sum+i\n",
        "  print(sum)"
      ],
      "metadata": {
        "colab": {
          "base_uri": "https://localhost:8080/"
        },
        "id": "T3R5XNxkf3qZ",
        "outputId": "055982a9-2e50-4861-c10f-ca1ac95f76f6"
      },
      "execution_count": 29,
      "outputs": [
        {
          "output_type": "stream",
          "name": "stdout",
          "text": [
            "1\n",
            "3\n",
            "6\n",
            "10\n",
            "15\n",
            "21\n",
            "28\n",
            "36\n",
            "45\n",
            "55\n"
          ]
        }
      ]
    },
    {
      "cell_type": "markdown",
      "source": [
        "## Nested loops\n",
        "\n",
        "Multiple For loops, while loops or combination of for loop and while loops are allowed to used in Python "
      ],
      "metadata": {
        "id": "i-0Qos1-1vcI"
      }
    },
    {
      "cell_type": "markdown",
      "source": [
        "\n",
        "\n",
        "```\n",
        "#syntax for sample nested for loops\n",
        "# outer for loop\n",
        "for [item] in [iterable object]: \n",
        "   # inner for loop\n",
        "   for [item] in [iterable object]:\n",
        "       block of code for inner for loop\n",
        "   block of code for outer for loop\n",
        "```\n",
        "\n"
      ],
      "metadata": {
        "id": "sNtp4NeRgBD6"
      }
    },
    {
      "cell_type": "code",
      "source": [
        "# print the multiplication table till 5 for each item in elements list\n",
        "number = [1,2,3,4,5]\n",
        "elements = [5,10]\n",
        "for i in elements:\n",
        "  for j in number:\n",
        "    print(j*i)\n"
      ],
      "metadata": {
        "id": "okhdXOhbg8j8",
        "colab": {
          "base_uri": "https://localhost:8080/"
        },
        "outputId": "1153508f-64c6-402b-9eab-443171959d03"
      },
      "execution_count": 31,
      "outputs": [
        {
          "output_type": "stream",
          "name": "stdout",
          "text": [
            "5\n",
            "10\n",
            "15\n",
            "20\n",
            "25\n",
            "10\n",
            "20\n",
            "30\n",
            "40\n",
            "50\n"
          ]
        }
      ]
    },
    {
      "cell_type": "code",
      "source": [
        "# print the multiplication table till 5 for each item in elements list\n",
        "number = [1,2,3,4,5]\n",
        "elements = [5,10]\n"
      ],
      "metadata": {
        "colab": {
          "base_uri": "https://localhost:8080/"
        },
        "id": "8kZuN-BLrNDd",
        "outputId": "fbdbc794-3cd1-43f7-8c13-894f98e4dd2c"
      },
      "execution_count": null,
      "outputs": [
        {
          "output_type": "stream",
          "name": "stdout",
          "text": [
            "*****multiply  5  with integer from 1 to 5\n",
            "5\n",
            "20\n",
            "15\n",
            "30\n",
            "25\n",
            "*****multiply  10  with integer from 1 to 5\n",
            "10\n",
            "40\n",
            "30\n",
            "60\n",
            "50\n"
          ]
        }
      ]
    },
    {
      "cell_type": "markdown",
      "source": [
        "# Loop control Statement\n",
        "Loop control statements are used to skip over an iteration or terminate the execution of the Loop without iteration over the whole sequence.\n"
      ],
      "metadata": {
        "id": "7DRl5Bj82QAv"
      }
    },
    {
      "cell_type": "markdown",
      "source": [
        "## Continue Statement\n",
        "continue keyword ends and rejects all the remaining statements for the current iteration and moves to the next iteration in the loop."
      ],
      "metadata": {
        "id": "NomdhDLf2q2M"
      }
    },
    {
      "cell_type": "code",
      "source": [
        "# Print all the letters in word Relevel except letter \"l\"\n",
        "w='Relevel'\n",
        "for i in w:\n",
        "  if i=='l':\n",
        "    continue\n",
        "  print(i)\n"
      ],
      "metadata": {
        "colab": {
          "base_uri": "https://localhost:8080/"
        },
        "id": "KqVvf51nh1ed",
        "outputId": "f0ecc4e9-b058-4dda-ab06-2e0b0e891aad"
      },
      "execution_count": 32,
      "outputs": [
        {
          "output_type": "stream",
          "name": "stdout",
          "text": [
            "R\n",
            "e\n",
            "e\n",
            "v\n",
            "e\n"
          ]
        }
      ]
    },
    {
      "cell_type": "markdown",
      "source": [
        "## Pass statement\n",
        "Pass statement acts as a null statement and used as a placeholder for peice of code to be written in future"
      ],
      "metadata": {
        "id": "cbgs1JO135bb"
      }
    },
    {
      "cell_type": "code",
      "source": [
        "# print all the letters in the word Relevel except letter \"l\" using pass statement\n",
        "word = \"Relevel\"\n"
      ],
      "metadata": {
        "colab": {
          "base_uri": "https://localhost:8080/"
        },
        "id": "7CRyhBCluFgh",
        "outputId": "0394ca50-b656-4dac-e187-9c6a261269d6"
      },
      "execution_count": null,
      "outputs": [
        {
          "output_type": "stream",
          "name": "stdout",
          "text": [
            "Current Letter : R\n",
            "Current Letter : e\n",
            "Current Letter : e\n",
            "Current Letter : v\n",
            "Current Letter : e\n"
          ]
        }
      ]
    },
    {
      "cell_type": "markdown",
      "source": [
        "## Break Statement\n",
        "Break statement helps to exit the loop from the current running iteration"
      ],
      "metadata": {
        "id": "jpWfzWZY51tF"
      }
    },
    {
      "cell_type": "code",
      "source": [
        "#Display numbers in given list before number 10\n",
        "seq = [2,4,20, 14, 10, 29, 33,7]\n",
        "for i in seq:\n",
        "  if i==10:\n",
        "    break\n",
        "  print(i)\n"
      ],
      "metadata": {
        "id": "U8-mOnIA5vX2",
        "colab": {
          "base_uri": "https://localhost:8080/"
        },
        "outputId": "3955db7c-a129-479c-e549-e579cad089f6"
      },
      "execution_count": 35,
      "outputs": [
        {
          "output_type": "stream",
          "name": "stdout",
          "text": [
            "2\n",
            "4\n",
            "20\n",
            "14\n"
          ]
        }
      ]
    },
    {
      "cell_type": "code",
      "source": [],
      "metadata": {
        "id": "sR3-WeZ3sJel"
      },
      "execution_count": null,
      "outputs": []
    }
  ]
}