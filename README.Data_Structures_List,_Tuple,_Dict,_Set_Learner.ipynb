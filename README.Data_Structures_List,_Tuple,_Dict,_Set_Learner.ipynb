{
  "cells": [
    {
      "cell_type": "markdown",
      "metadata": {
        "id": "view-in-github",
        "colab_type": "text"
      },
      "source": [
        "<a href=\"https://colab.research.google.com/github/Vaishnavi80090/Python-Tutorials-/blob/main/README.Data_Structures_List%2C_Tuple%2C_Dict%2C_Set_Learner.ipynb\" target=\"_parent\"><img src=\"https://colab.research.google.com/assets/colab-badge.svg\" alt=\"Open In Colab\"/></a>"
      ]
    },
    {
      "cell_type": "markdown",
      "metadata": {
        "id": "VJucPukg2v12"
      },
      "source": [
        "# Data Structures"
      ]
    },
    {
      "cell_type": "markdown",
      "metadata": {
        "id": "NTtW7wJL2v17"
      },
      "source": [
        "Data structures refer to the collection or group of data in a particular structure."
      ]
    },
    {
      "cell_type": "markdown",
      "metadata": {
        "id": "eJxZ0qE72v18"
      },
      "source": [
        "# Lists"
      ]
    },
    {
      "cell_type": "markdown",
      "metadata": {
        "id": "xe9hSJoi2v19"
      },
      "source": [
        "Lists are the most commonly used data structure. Think of it as a sequence of data that is enclosed in square brackets and data are separated by a comma. Each of these data can be accessed by calling it's index value.\n",
        "\n",
        "Lists are declared by just equating a variable to '[ ]' or list. We can use lists to hold an ordered sequence of values."
      ]
    },
    {
      "cell_type": "code",
      "source": [
        "## Creating an empty List\n"
      ],
      "metadata": {
        "colab": {
          "base_uri": "https://localhost:8080/"
        },
        "id": "JpZc42XS-epZ",
        "outputId": "e1762d6d-7552-4d5d-bbad-ebbf7683c8f2"
      },
      "execution_count": null,
      "outputs": [
        {
          "output_type": "stream",
          "name": "stdout",
          "text": [
            "[]\n",
            "<class 'list'>\n"
          ]
        }
      ]
    },
    {
      "cell_type": "markdown",
      "metadata": {
        "id": "uC0d9mpu2v2B"
      },
      "source": [
        "Lists can contain different types of variable, even in the same list."
      ]
    },
    {
      "cell_type": "code",
      "source": [
        "# Lists can contain different types of variable, even in the same list."
      ],
      "metadata": {
        "id": "VmU8tzrw5pgZ"
      },
      "execution_count": null,
      "outputs": []
    },
    {
      "cell_type": "code",
      "source": [
        "a=[1,True,1.2,\"a\"]\n",
        "a"
      ],
      "metadata": {
        "colab": {
          "base_uri": "https://localhost:8080/"
        },
        "id": "-42oikZl12m5",
        "outputId": "fe5f4721-6016-4330-c1fe-f35a7a952533"
      },
      "execution_count": 2,
      "outputs": [
        {
          "output_type": "execute_result",
          "data": {
            "text/plain": [
              "[1, True, 1.2, 'a']"
            ]
          },
          "metadata": {},
          "execution_count": 2
        }
      ]
    },
    {
      "cell_type": "code",
      "execution_count": 3,
      "metadata": {
        "id": "MGUJQv4G2v1-",
        "outputId": "59b4ffef-8f67-4b83-d3c1-83a3c2500206",
        "colab": {
          "base_uri": "https://localhost:8080/"
        }
      },
      "outputs": [
        {
          "output_type": "execute_result",
          "data": {
            "text/plain": [
              "[1, 2, 3, 4]"
            ]
          },
          "metadata": {},
          "execution_count": 3
        }
      ],
      "source": [
        "# create a list named num_list that stores first four numbers 1, 2, 3, 4\n",
        "num_list=[1,2,3,4]\n",
        "num_list"
      ]
    },
    {
      "cell_type": "code",
      "execution_count": null,
      "metadata": {
        "id": "eC7mV9f42v2C",
        "outputId": "a8861a3f-a197-433c-fe42-f14ec7c7bcdf",
        "colab": {
          "base_uri": "https://localhost:8080/"
        }
      },
      "outputs": [
        {
          "output_type": "stream",
          "name": "stdout",
          "text": [
            "[1, 2, 3.0, 3.1, 'first', 'second', 'third']\n"
          ]
        }
      ],
      "source": [
        "# create a list with integer data type 1,2, float data type 3.0, 3.1 and string data type 'first', 'second', 'third'\n"
      ]
    },
    {
      "cell_type": "code",
      "source": [
        "## Finding the length of the list\n",
        "len(num_list)"
      ],
      "metadata": {
        "colab": {
          "base_uri": "https://localhost:8080/"
        },
        "id": "Z73BL0DkmzZO",
        "outputId": "4da00e44-ce15-4e65-995d-c136f5617cb4"
      },
      "execution_count": 4,
      "outputs": [
        {
          "output_type": "execute_result",
          "data": {
            "text/plain": [
              "4"
            ]
          },
          "metadata": {},
          "execution_count": 4
        }
      ]
    },
    {
      "cell_type": "code",
      "source": [
        "## List can contain more data types. Here list contains the l\n",
        "num_list.append(a)\n",
        "num_list"
      ],
      "metadata": {
        "colab": {
          "base_uri": "https://localhost:8080/"
        },
        "id": "vRFFKLYv_XX9",
        "outputId": "ae757657-c4d3-4e8a-f4d7-e8db7695fe02"
      },
      "execution_count": 8,
      "outputs": [
        {
          "output_type": "execute_result",
          "data": {
            "text/plain": [
              "[1, 2, 3, 4, [1, True, 1.2, 'a'], [1, True, 1.2, 'a']]"
            ]
          },
          "metadata": {},
          "execution_count": 8
        }
      ]
    },
    {
      "cell_type": "code",
      "execution_count": 10,
      "metadata": {
        "id": "m7Lw7BWi2v2D",
        "outputId": "3f20d4c1-601a-4886-ab42-ff97e0d39b27",
        "colab": {
          "base_uri": "https://localhost:8080/"
        }
      },
      "outputs": [
        {
          "output_type": "execute_result",
          "data": {
            "text/plain": [
              "[1, 2, 3, 10, [1, True, 1.2, 'a'], [1, True, 1.2, 'a']]"
            ]
          },
          "metadata": {},
          "execution_count": 10
        }
      ],
      "source": [
        "# change the third element to 10 and print the list again\n",
        "num_list[3]=10\n",
        "num_list"
      ]
    },
    {
      "cell_type": "markdown",
      "metadata": {
        "id": "t-4BexdS2v2E"
      },
      "source": [
        "Lists are mutable; their contents can change as more statements are interpreted."
      ]
    },
    {
      "cell_type": "code",
      "execution_count": 12,
      "metadata": {
        "id": "eV1X6UvL2v2F",
        "outputId": "64c65444-b8e9-494f-d818-b933a7ec8f16",
        "colab": {
          "base_uri": "https://localhost:8080/"
        }
      },
      "outputs": [
        {
          "output_type": "execute_result",
          "data": {
            "text/plain": [
              "[1, 2, 3, 10, [1, True, 1.2, 'a'], [1, True, 1.2, 'a'], 5, 5]"
            ]
          },
          "metadata": {},
          "execution_count": 12
        }
      ],
      "source": [
        "# append number 5 to the list created above\n",
        "num_list.append(5)\n",
        "num_list"
      ]
    },
    {
      "cell_type": "code",
      "execution_count": 13,
      "metadata": {
        "id": "kNn_U_CN2v2G",
        "colab": {
          "base_uri": "https://localhost:8080/"
        },
        "outputId": "c9818136-7db4-45a7-889b-f2731399705c"
      },
      "outputs": [
        {
          "output_type": "execute_result",
          "data": {
            "text/plain": [
              "[1, 2, 3, 4]"
            ]
          },
          "metadata": {},
          "execution_count": 13
        }
      ],
      "source": [
        "# create a list named list_one containing numbers 1,2,3,4\n",
        "list_one=[1,2,3,4]\n",
        "list_one"
      ]
    },
    {
      "cell_type": "markdown",
      "metadata": {
        "id": "d1CzmWJk2v2H"
      },
      "source": [
        "- The above code creates same references to a variable named `list_one` and `list_two`\n",
        "\n",
        "- Because lists are mutable, changing them can have side-effects on other variables.\n",
        "\n"
      ]
    },
    {
      "cell_type": "code",
      "execution_count": 15,
      "metadata": {
        "id": "OwBQC7t02v2I",
        "outputId": "3386aa6b-e487-4e3f-f9b4-57927cb75bf5",
        "colab": {
          "base_uri": "https://localhost:8080/"
        }
      },
      "outputs": [
        {
          "output_type": "execute_result",
          "data": {
            "text/plain": [
              "[1, 2, 3, 4, 5, 5]"
            ]
          },
          "metadata": {},
          "execution_count": 15
        }
      ],
      "source": [
        "# append 5 to `list_one` \n",
        "list_one.append(5)\n",
        "list_one\n"
      ]
    },
    {
      "cell_type": "code",
      "execution_count": null,
      "metadata": {
        "id": "nbUbgqIJ2v2I",
        "outputId": "e790e6c0-b69d-4494-dac0-137f5eac9f77",
        "colab": {
          "base_uri": "https://localhost:8080/"
        }
      },
      "outputs": [
        {
          "output_type": "stream",
          "name": "stdout",
          "text": [
            "140441509969664 [1, 2, 3, 4, 5]\n"
          ]
        }
      ],
      "source": [
        "# lets see what happens to list_one\n"
      ]
    },
    {
      "cell_type": "code",
      "source": [
        "# create a list named list_one containing numbers 1,2,3,4\n",
        "list_one_new = [1, 2, 3, 4]\n",
        "# Creating a copy of the list \n"
      ],
      "metadata": {
        "colab": {
          "base_uri": "https://localhost:8080/"
        },
        "id": "EGO8qFHDoDqz",
        "outputId": "7b511ef1-1ecc-4d3a-8359-8b5f84272eb2"
      },
      "execution_count": null,
      "outputs": [
        {
          "output_type": "stream",
          "name": "stdout",
          "text": [
            "140441510239760 [1, 2, 3, 4]\n",
            "140441510009904 [1, 2, 3, 4, 5]\n"
          ]
        }
      ]
    },
    {
      "cell_type": "markdown",
      "source": [
        "In the above code two different reference of 2 new variable."
      ],
      "metadata": {
        "id": "CYJ9Nzw1pFao"
      }
    },
    {
      "cell_type": "markdown",
      "metadata": {
        "id": "LNaQ8vRR2v2O"
      },
      "source": [
        "## List Indexing\n",
        "\n",
        "- Lists can be indexed using square brackets to retrieve the element stored in a particular position.  \n",
        "- Index value starts from 0 till length of the string minus one \n",
        "- Indexing is exactly similar to indexing in strings except that indexing in lists returns the entire item at that position whereas in strings, the character at that position is returned\n"
      ]
    },
    {
      "cell_type": "code",
      "execution_count": 17,
      "metadata": {
        "id": "0oN4dVXe2v2O",
        "outputId": "959427f8-636b-412b-f411-1cf625d2bea3",
        "colab": {
          "base_uri": "https://localhost:8080/"
        }
      },
      "outputs": [
        {
          "output_type": "execute_result",
          "data": {
            "text/plain": [
              "1"
            ]
          },
          "metadata": {},
          "execution_count": 17
        }
      ],
      "source": [
        "num_list = [1,2,3,4]\n",
        "\n",
        "## Access the value using positive index\n",
        "num_list[0]"
      ]
    },
    {
      "cell_type": "code",
      "source": [
        "# Can you access 4th index?\n",
        "num_list[3]"
      ],
      "metadata": {
        "colab": {
          "base_uri": "https://localhost:8080/"
        },
        "id": "UII3BQPFx09u",
        "outputId": "8810852d-7141-49ca-acbd-30eddde032d3"
      },
      "execution_count": 18,
      "outputs": [
        {
          "output_type": "execute_result",
          "data": {
            "text/plain": [
              "4"
            ]
          },
          "metadata": {},
          "execution_count": 18
        }
      ]
    },
    {
      "cell_type": "code",
      "source": [
        "## Access the value using negative index\n",
        "num_list[::-1]"
      ],
      "metadata": {
        "colab": {
          "base_uri": "https://localhost:8080/"
        },
        "id": "hXqcAvNLt3zs",
        "outputId": "d1733023-764c-4822-d387-710a879855ed"
      },
      "execution_count": 19,
      "outputs": [
        {
          "output_type": "execute_result",
          "data": {
            "text/plain": [
              "[4, 3, 2, 1]"
            ]
          },
          "metadata": {},
          "execution_count": 19
        }
      ]
    },
    {
      "cell_type": "code",
      "source": [
        "# Can you access -5th index?\n",
        "num_list[-5]\n"
      ],
      "metadata": {
        "colab": {
          "base_uri": "https://localhost:8080/",
          "height": 183
        },
        "id": "YB8bXODKx31Q",
        "outputId": "f114ad2c-fb2e-467e-9dbf-0573e4a0ddf6"
      },
      "execution_count": 20,
      "outputs": [
        {
          "output_type": "error",
          "ename": "IndexError",
          "evalue": "ignored",
          "traceback": [
            "\u001b[0;31m---------------------------------------------------------------------------\u001b[0m",
            "\u001b[0;31mIndexError\u001b[0m                                Traceback (most recent call last)",
            "\u001b[0;32m<ipython-input-20-18339a11ed54>\u001b[0m in \u001b[0;36m<cell line: 2>\u001b[0;34m()\u001b[0m\n\u001b[1;32m      1\u001b[0m \u001b[0;31m# Can you access -5th index?\u001b[0m\u001b[0;34m\u001b[0m\u001b[0;34m\u001b[0m\u001b[0m\n\u001b[0;32m----> 2\u001b[0;31m \u001b[0mnum_list\u001b[0m\u001b[0;34m[\u001b[0m\u001b[0;34m-\u001b[0m\u001b[0;36m5\u001b[0m\u001b[0;34m]\u001b[0m\u001b[0;34m\u001b[0m\u001b[0;34m\u001b[0m\u001b[0m\n\u001b[0m",
            "\u001b[0;31mIndexError\u001b[0m: list index out of range"
          ]
        }
      ]
    },
    {
      "cell_type": "markdown",
      "source": [
        "### Accessing a nested list"
      ],
      "metadata": {
        "id": "Ma1J0FoONEMu"
      }
    },
    {
      "cell_type": "code",
      "source": [
        "# Create a Nested List\n",
        "new_list = [9, 10]\n",
        "num_nested_list = [1,2,3,4, []]\n",
        "num_nested_list=[1,2,3,4,new_list]\n",
        "num_nested_list\n",
        "\n"
      ],
      "metadata": {
        "colab": {
          "base_uri": "https://localhost:8080/"
        },
        "id": "-QAptjuixd36",
        "outputId": "9172da20-15b6-4ee3-e43f-048504aed666"
      },
      "execution_count": 24,
      "outputs": [
        {
          "output_type": "execute_result",
          "data": {
            "text/plain": [
              "[1, 2, 3, 4, [9, 10]]"
            ]
          },
          "metadata": {},
          "execution_count": 24
        }
      ]
    },
    {
      "cell_type": "code",
      "source": [
        "# Access the 2nd index of 5th index\n",
        "num_nested_list[4][1]\n"
      ],
      "metadata": {
        "colab": {
          "base_uri": "https://localhost:8080/"
        },
        "id": "eUC4Eepgx75F",
        "outputId": "66c59737-bf3e-4039-a0ab-32935398f2c4"
      },
      "execution_count": 25,
      "outputs": [
        {
          "output_type": "execute_result",
          "data": {
            "text/plain": [
              "10"
            ]
          },
          "metadata": {},
          "execution_count": 25
        }
      ]
    },
    {
      "cell_type": "markdown",
      "metadata": {
        "id": "fRYkmTnK2v2P"
      },
      "source": [
        "## List  Slicing\n",
        "\n",
        "Indexing was only limited to accessing a single element, Slicing on the other hand is accessing a sequence of data inside the list. In other words \"slicing\" the list.\n",
        "\n",
        "Slicing is done by defining the index values of the first element and the last element from the parent list that is required in the sliced list. It is written as parentlist[ a : b ] where a,b are the index values from the parent list. If a or b is not defined then the index value is considered to be the first value for a if a is not defined and the last value for b when b is not defined."
      ]
    },
    {
      "cell_type": "code",
      "execution_count": 26,
      "metadata": {
        "id": "PK3eVBbg2v2Q"
      },
      "outputs": [],
      "source": [
        "## Slice the list\n",
        "num_range = [0,1,2,3,4,5,6,7,8,9]\n"
      ]
    },
    {
      "cell_type": "code",
      "source": [
        "## Slice the list using negative index\n",
        "num_range[-5:-2]\n"
      ],
      "metadata": {
        "colab": {
          "base_uri": "https://localhost:8080/"
        },
        "id": "t5c3Tgb8wo1Z",
        "outputId": "37dc82b9-82df-4d5e-8bff-575218018a59"
      },
      "execution_count": 28,
      "outputs": [
        {
          "output_type": "execute_result",
          "data": {
            "text/plain": [
              "[5, 6, 7]"
            ]
          },
          "metadata": {},
          "execution_count": 28
        }
      ]
    },
    {
      "cell_type": "markdown",
      "source": [
        "### Applying aggregation on list"
      ],
      "metadata": {
        "id": "0CamVrXaNKvd"
      }
    },
    {
      "cell_type": "markdown",
      "metadata": {
        "id": "pS9MKR6R2v2R"
      },
      "source": [
        "In a list with elements as string, **max( )** and **min( )** is applicable. **max( )** would return a string element whose ASCII value is the highest and the lowest when **min( )** is used. Note that only the first index of each element is considered each time and if they value is the same then second index considered so on and so forth."
      ]
    },
    {
      "cell_type": "code",
      "execution_count": 32,
      "metadata": {
        "id": "21X9t8tC2v2S",
        "outputId": "3f357058-0581-4e98-a767-f93b2e4ca380",
        "colab": {
          "base_uri": "https://localhost:8080/",
          "height": 35
        }
      },
      "outputs": [
        {
          "output_type": "execute_result",
          "data": {
            "text/plain": [
              "'az'"
            ],
            "application/vnd.google.colaboratory.intrinsic+json": {
              "type": "string"
            }
          },
          "metadata": {},
          "execution_count": 32
        }
      ],
      "source": [
        "# create a list of some strings and then print max and min\n",
        "string_list = ['bzaa','ds','nc','az','z','klm']\n",
        "max(string_list)\n",
        "min(string_list)\n"
      ]
    },
    {
      "cell_type": "code",
      "source": [
        "c = 'R'\n",
        "print(\"The ASCII value of '\" + c + \"' is\")"
      ],
      "metadata": {
        "colab": {
          "base_uri": "https://localhost:8080/"
        },
        "id": "sbypLrOQ4Siu",
        "outputId": "0412a48b-5b1b-40c6-d223-665cce0dcf51"
      },
      "execution_count": null,
      "outputs": [
        {
          "output_type": "stream",
          "name": "stdout",
          "text": [
            "The ASCII value of 'R' is 82\n"
          ]
        }
      ]
    },
    {
      "cell_type": "code",
      "source": [
        "c = 'r'\n",
        "print(\"The ASCII value of '\" + c + \"' is\")"
      ],
      "metadata": {
        "colab": {
          "base_uri": "https://localhost:8080/"
        },
        "id": "pmjKuvdJ4aEq",
        "outputId": "a4b8608f-cfd1-4478-82a7-874b7c0c04d9"
      },
      "execution_count": null,
      "outputs": [
        {
          "output_type": "stream",
          "name": "stdout",
          "text": [
            "The ASCII value of 'r' is 114\n"
          ]
        }
      ]
    },
    {
      "cell_type": "markdown",
      "metadata": {
        "id": "AFx2sDMO2v2S"
      },
      "source": [
        "Here the first index of each element is considered and thus z has the highest ASCII value thus it is returned and minimum ASCII is a. But what if numbers are declared as strings?"
      ]
    },
    {
      "cell_type": "code",
      "execution_count": 34,
      "metadata": {
        "id": "OU30oLkH2v2S",
        "outputId": "04a2e06b-1a70-4180-ab52-f6064f34c4f7",
        "colab": {
          "base_uri": "https://localhost:8080/",
          "height": 35
        }
      },
      "outputs": [
        {
          "output_type": "execute_result",
          "data": {
            "text/plain": [
              "'1'"
            ],
            "application/vnd.google.colaboratory.intrinsic+json": {
              "type": "string"
            }
          },
          "metadata": {},
          "execution_count": 34
        }
      ],
      "source": [
        "# create a list of integers (string) num_list\n",
        "num_list = ['1','94','93','1000']\n",
        "max(num_list)\n",
        "min(num_list)\n"
      ]
    },
    {
      "cell_type": "markdown",
      "metadata": {
        "id": "ZXgT6SIS2v2T"
      },
      "source": [
        "Even if the numbers are declared in a string the first index of each element is considered and the maximum and minimum values are returned accordingly."
      ]
    },
    {
      "cell_type": "code",
      "source": [
        "# create a list of integers num_list\n",
        "num_list = [-30, 1, 102, 94, 3, 1000]\n"
      ],
      "metadata": {
        "colab": {
          "base_uri": "https://localhost:8080/"
        },
        "id": "NjbCTHYMN1l3",
        "outputId": "7e07f92f-b33a-4bc3-9e1e-7158ffbf986d"
      },
      "execution_count": null,
      "outputs": [
        {
          "output_type": "stream",
          "name": "stdout",
          "text": [
            "1000\n",
            "-30\n",
            "1170\n"
          ]
        }
      ]
    },
    {
      "cell_type": "markdown",
      "metadata": {
        "id": "dmTFLjQm2v2T"
      },
      "source": [
        "But if you want to find the **max( )** string element based on the length of the string then another parameter 'key=len' is declared inside the **max( )** and **min( )** function."
      ]
    },
    {
      "cell_type": "code",
      "source": [
        "# create a list names that contians element 'Earth','Air','Fire','Water'\n",
        "names = ['Earth','Air','Fire','Water']"
      ],
      "metadata": {
        "id": "CIhA1VGGT6iA"
      },
      "execution_count": 35,
      "outputs": []
    },
    {
      "cell_type": "code",
      "execution_count": 41,
      "metadata": {
        "id": "bcI3Di8X2v2T"
      },
      "outputs": [],
      "source": [
        "# print the longest and smallest word from the list names\n",
        "\n",
        "\n"
      ]
    },
    {
      "cell_type": "markdown",
      "source": [
        "### Converting a string into list"
      ],
      "metadata": {
        "id": "t2dHq6OAU1In"
      }
    },
    {
      "cell_type": "markdown",
      "metadata": {
        "id": "QT6Y-MPr2v2U"
      },
      "source": [
        "A string can be converted into a list by using the list() function."
      ]
    },
    {
      "cell_type": "code",
      "execution_count": null,
      "metadata": {
        "id": "yd1WP3wO2v2U",
        "outputId": "9e370a7d-62d2-4759-bfcb-92d35d82956e"
      },
      "outputs": [
        {
          "data": {
            "text/plain": [
              "['R', 'e', 'l', 'e', 'v', 'e', 'l']"
            ]
          },
          "execution_count": 21,
          "metadata": {},
          "output_type": "execute_result"
        }
      ],
      "source": [
        "# convert the string Relevel into list\n",
        "'Relevel'"
      ]
    },
    {
      "cell_type": "code",
      "source": [
        "a=['R', 'e', 'l', 'e', 'v', 'e', 'l']\n",
        "a"
      ],
      "metadata": {
        "colab": {
          "base_uri": "https://localhost:8080/"
        },
        "id": "V1UkWOxA-iFY",
        "outputId": "2093e630-bba1-4143-9f30-ceb586fd10e7"
      },
      "execution_count": 42,
      "outputs": [
        {
          "output_type": "execute_result",
          "data": {
            "text/plain": [
              "['R', 'e', 'l', 'e', 'v', 'e', 'l']"
            ]
          },
          "metadata": {},
          "execution_count": 42
        }
      ]
    },
    {
      "cell_type": "markdown",
      "metadata": {
        "id": "NHLop7xs2v2V"
      },
      "source": [
        "List of words? Let's try using .split() which splits a string on the basis of spaces."
      ]
    },
    {
      "cell_type": "code",
      "execution_count": 45,
      "metadata": {
        "id": "OBgYf9un2v2V",
        "outputId": "ec8373d1-a0e4-46bf-a977-a5483f5eb56b",
        "colab": {
          "base_uri": "https://localhost:8080/"
        }
      },
      "outputs": [
        {
          "output_type": "execute_result",
          "data": {
            "text/plain": [
              "['I', 'will', 'now', 'convert', 'this', 'to', 'a', 'list', 'of', 'words']"
            ]
          },
          "metadata": {},
          "execution_count": 45
        }
      ],
      "source": [
        "# split the string into list\n",
        "test_string = 'I will now convert this to a list of words'\n",
        "test_string.split(sep=None)\n"
      ]
    },
    {
      "cell_type": "markdown",
      "metadata": {
        "id": "s4icpcTB2v2V"
      },
      "source": [
        "What about splitting on something else? Like a period? and then try to make it like a normal sentence using .join?"
      ]
    },
    {
      "cell_type": "code",
      "execution_count": 56,
      "metadata": {
        "id": "itgxemns2v2V",
        "outputId": "ef056982-a301-4456-edf7-bd2ecd2cdd64",
        "colab": {
          "base_uri": "https://localhost:8080/"
        }
      },
      "outputs": [
        {
          "output_type": "execute_result",
          "data": {
            "text/plain": [
              "['Hi', 'Can', 'we', 'get', 'rid', 'of', 'the', 'periods', 'here']"
            ]
          },
          "metadata": {},
          "execution_count": 56
        }
      ],
      "source": [
        "# split the string using .\n",
        "string_to_split = 'Hi.Can.we.get.rid.of.the.periods.here'\n",
        "x=string_to_split.split(\".\")\n",
        "x\n"
      ]
    },
    {
      "cell_type": "code",
      "execution_count": 57,
      "metadata": {
        "id": "QMF2pMNp2v2W",
        "outputId": "681595db-9ca6-428d-909d-2289bb3df288",
        "colab": {
          "base_uri": "https://localhost:8080/",
          "height": 35
        }
      },
      "outputs": [
        {
          "output_type": "execute_result",
          "data": {
            "text/plain": [
              "'Hi Can we get rid of the periods here'"
            ],
            "application/vnd.google.colaboratory.intrinsic+json": {
              "type": "string"
            }
          },
          "metadata": {},
          "execution_count": 57
        }
      ],
      "source": [
        "#Let's join it back with spaces and reassign it to the original name\n",
        "\" \".join(x)\n"
      ]
    },
    {
      "cell_type": "code",
      "execution_count": null,
      "metadata": {
        "id": "5x3i0tW_2v2W",
        "outputId": "d61b266b-54eb-4f9f-af50-f552cc47a88d"
      },
      "outputs": [
        {
          "name": "stdout",
          "output_type": "stream",
          "text": [
            "Hi Can we get rid of the periods here\n"
          ]
        }
      ],
      "source": [
        "#Let's do it as a one-liner\n",
        "string_to_split = 'Hi.Can.we.get.rid.of.the.periods.here'\n"
      ]
    },
    {
      "cell_type": "markdown",
      "metadata": {
        "id": "R87nY1702v2X"
      },
      "source": [
        "By the way, triple quotes are used for multiline comments. Don't you think something similar can be used during new user signups?"
      ]
    },
    {
      "cell_type": "markdown",
      "metadata": {
        "id": "6HebIkJb2v2J"
      },
      "source": [
        "## Some common List Methods"
      ]
    },
    {
      "cell_type": "markdown",
      "metadata": {
        "id": "RGPoaz8K2v2K"
      },
      "source": [
        "| Method Name | Use | Explanation |\n",
        "| --- | --- | --- |\n",
        "|insert |\talist.insert(i,item)\t| Inserts an item at the ith position in a list |\n",
        "|pop\t|\talist.pop()\t\t\t | Removes and returns the last item in a list|\n",
        "|pop\t|\talist.pop(i)\t\t\t| Removes and returns the ith item in a list|\n",
        "|sort   |\talist.sort()\t\t\t| Modifies a list to be sorted|\n",
        "|reverse|\talist.reverse()\t     | Modifies a list to be in reverse order|\n",
        "|del\t|\tdel alist[i]\t\t\t| Deletes the item in the ith position|\n",
        "|index  |\talist.index(item)\t   | Returns the index of the first occurrence of item|\n",
        "|count  |\talist.count(item)\t   | Returns the number of occurrences of item|\n",
        "|Removes|\talist.remove(item)\t  | Removes the first occurrence of item|\n",
        "|append |    alist.append(item)\t  | Adds a new item to the end of a list |"
      ]
    },
    {
      "cell_type": "markdown",
      "source": [
        "## Adding to the List"
      ],
      "metadata": {
        "id": "BknXtmybq-9o"
      }
    },
    {
      "cell_type": "code",
      "source": [
        "# create a list named list_one containing numbers 1,2,3,4\n",
        "l = [1, 2, 3, 4]\n"
      ],
      "metadata": {
        "id": "roAqck7MrDI2"
      },
      "execution_count": 58,
      "outputs": []
    },
    {
      "cell_type": "code",
      "source": [
        "# Pass two value i.e 6, 7 using append\n",
        "l.append([6,7])\n"
      ],
      "metadata": {
        "id": "auj_oUITrJp_"
      },
      "execution_count": 61,
      "outputs": []
    },
    {
      "cell_type": "code",
      "source": [
        "## Passing single value as a list\n"
      ],
      "metadata": {
        "colab": {
          "base_uri": "https://localhost:8080/"
        },
        "id": "9aI7WgmrrgKY",
        "outputId": "2574a741-d53b-4442-d724-8e7f55aaf5a7"
      },
      "execution_count": null,
      "outputs": [
        {
          "output_type": "stream",
          "name": "stdout",
          "text": [
            "[1, 2, 3, 4, 5, [6, 7]]\n"
          ]
        }
      ]
    },
    {
      "cell_type": "markdown",
      "source": [
        "### Using extend()"
      ],
      "metadata": {
        "id": "MIMlFsx0sTkV"
      }
    },
    {
      "cell_type": "code",
      "source": [
        "# create a list named list_one containing numbers 1,2,3,4\n",
        "l = [1, 2, 3, 4]\n",
        "\n"
      ],
      "metadata": {
        "id": "Jd3p9ScpsW8N"
      },
      "execution_count": 62,
      "outputs": []
    },
    {
      "cell_type": "code",
      "source": [
        "## Passing a single value in extend. It should be any iterable i.e list\n",
        "l.extend([5,6,7])\n",
        "l"
      ],
      "metadata": {
        "colab": {
          "base_uri": "https://localhost:8080/"
        },
        "id": "4Vq0SjoVsdRw",
        "outputId": "bea676a6-0fba-4686-9010-65fdb0baa866"
      },
      "execution_count": 64,
      "outputs": [
        {
          "output_type": "execute_result",
          "data": {
            "text/plain": [
              "[1, 2, 3, 4, 5, 6, 7, 5, 6, 7]"
            ]
          },
          "metadata": {},
          "execution_count": 64
        }
      ]
    },
    {
      "cell_type": "markdown",
      "source": [
        "### Using insert() method\n",
        "\n",
        "The `insert()` method inserts the specified value at the specified position.\n",
        "\n",
        "`list.insert(pos, elmnt)"
      ],
      "metadata": {
        "id": "tPLjUZmzs1wu"
      }
    },
    {
      "cell_type": "code",
      "source": [
        "# Pass 9 to 3rd index\n",
        "l.insert(3,9)\n",
        "l\n"
      ],
      "metadata": {
        "colab": {
          "base_uri": "https://localhost:8080/"
        },
        "id": "nCZD8D13tF4L",
        "outputId": "c5e35428-9350-4743-c918-81f28fcf6722"
      },
      "execution_count": 66,
      "outputs": [
        {
          "output_type": "execute_result",
          "data": {
            "text/plain": [
              "[1, 2, 3, 9, 9, 4, 5, 6, 7, 5, 6, 7]"
            ]
          },
          "metadata": {},
          "execution_count": 66
        }
      ]
    },
    {
      "cell_type": "code",
      "source": [
        "# Pass 18 to -2nd \n",
        "l.insert(-2,18)\n",
        "l\n"
      ],
      "metadata": {
        "colab": {
          "base_uri": "https://localhost:8080/"
        },
        "id": "zJNd0TTVtiis",
        "outputId": "f2a6981a-8526-444f-cde0-f99bcba15b11"
      },
      "execution_count": 68,
      "outputs": [
        {
          "output_type": "execute_result",
          "data": {
            "text/plain": [
              "[1, 2, 3, 9, 9, 4, 5, 6, 7, 5, 18, 18, 6, 7]"
            ]
          },
          "metadata": {},
          "execution_count": 68
        }
      ]
    },
    {
      "cell_type": "markdown",
      "source": [
        "## Removing the elements from the list"
      ],
      "metadata": {
        "id": "A9M96OHaacbt"
      }
    },
    {
      "cell_type": "code",
      "source": [
        "# Python program to demonstrate \n",
        "# Removal of elements in a List\n",
        "  \n",
        "# Creating a List\n",
        "l = [40, 50, 60, 50, 70, 80, 90, 70, \"thirty\", 110, 190, 200]\n",
        "print(l)\n",
        "  \n",
        "# Removing elements from List\n",
        "# using Remove() method\n",
        "\n",
        "# Remove 50 from the list\n",
        "l.remove(50)\n",
        "\n",
        "\n",
        "# Remove 70 from the list\n",
        "l.remove(70)\n",
        "\n",
        "# Remove thirty from the list\n",
        "l.remove(\"thirty\")\n",
        "\n",
        "print(\"\\nList after removal of mentioned elements: \")\n",
        "print(l)"
      ],
      "metadata": {
        "colab": {
          "base_uri": "https://localhost:8080/"
        },
        "id": "xbliWHQJazZH",
        "outputId": "6b28cf37-f2d1-4516-fe19-b287c382d830"
      },
      "execution_count": 74,
      "outputs": [
        {
          "output_type": "stream",
          "name": "stdout",
          "text": [
            "[40, 50, 60, 50, 70, 80, 90, 70, 'thirty', 110, 190, 200]\n",
            "\n",
            "List after removal of mentioned elements: \n",
            "[40, 60, 50, 80, 90, 70, 110, 190, 200]\n"
          ]
        }
      ]
    },
    {
      "cell_type": "code",
      "source": [
        "# Remove 100 from the list\n",
        "l.remove(110)\n",
        "l\n"
      ],
      "metadata": {
        "colab": {
          "base_uri": "https://localhost:8080/"
        },
        "id": "BX62sd-HbMar",
        "outputId": "d23114c2-aaa0-4f32-a71e-79d2436f13aa"
      },
      "execution_count": 76,
      "outputs": [
        {
          "output_type": "execute_result",
          "data": {
            "text/plain": [
              "[40, 60, 50, 80, 90, 70, 190, 200]"
            ]
          },
          "metadata": {},
          "execution_count": 76
        }
      ]
    },
    {
      "cell_type": "code",
      "source": [
        "# Pop the item from the list\n",
        "l.pop()\n",
        "\n",
        "print(l)"
      ],
      "metadata": {
        "colab": {
          "base_uri": "https://localhost:8080/"
        },
        "id": "7hh2L8PUcLAX",
        "outputId": "2a683507-e8e8-447b-d63a-605243754712"
      },
      "execution_count": 77,
      "outputs": [
        {
          "output_type": "stream",
          "name": "stdout",
          "text": [
            "[40, 60, 50, 80, 90, 70, 190]\n"
          ]
        }
      ]
    },
    {
      "cell_type": "code",
      "source": [
        "# Pop 2nd item from the list\n",
        "l.pop()\n",
        "\n",
        "print(l)"
      ],
      "metadata": {
        "colab": {
          "base_uri": "https://localhost:8080/"
        },
        "id": "bohwOoThcTyE",
        "outputId": "870670cb-7b62-4f5e-b49f-cac7f8118a4a"
      },
      "execution_count": 78,
      "outputs": [
        {
          "output_type": "stream",
          "name": "stdout",
          "text": [
            "[40, 60, 50, 80, 90, 70]\n"
          ]
        }
      ]
    },
    {
      "cell_type": "code",
      "source": [
        "# Delete 1st item from the list\n",
        "l.remove(40)\n",
        "\n",
        "print(l)"
      ],
      "metadata": {
        "colab": {
          "base_uri": "https://localhost:8080/"
        },
        "id": "bjjV-vYtcixu",
        "outputId": "817db7e8-999e-49a6-f310-3199e53e817f"
      },
      "execution_count": 80,
      "outputs": [
        {
          "output_type": "stream",
          "name": "stdout",
          "text": [
            "[60, 50, 80, 90, 70]\n"
          ]
        }
      ]
    },
    {
      "cell_type": "code",
      "source": [
        "# Delete 2nd and 3rd item from the list\n",
        "l.remove(50)\n",
        "\n",
        "print(l)"
      ],
      "metadata": {
        "colab": {
          "base_uri": "https://localhost:8080/"
        },
        "id": "aAnI4lyCdAvo",
        "outputId": "83d4c682-c02f-4c24-f380-403ef9f7b901"
      },
      "execution_count": 83,
      "outputs": [
        {
          "output_type": "stream",
          "name": "stdout",
          "text": [
            "[60, 80, 90, 70]\n"
          ]
        }
      ]
    },
    {
      "cell_type": "code",
      "source": [
        "# Clearing all the values of the list\n",
        "l.clear()\n",
        "print(\"\\nList after removing all the values: \")\n",
        "print(l)"
      ],
      "metadata": {
        "colab": {
          "base_uri": "https://localhost:8080/"
        },
        "id": "PXYF-2HybLFA",
        "outputId": "4a129230-54c0-4752-9121-f2271ae7264e"
      },
      "execution_count": 84,
      "outputs": [
        {
          "output_type": "stream",
          "name": "stdout",
          "text": [
            "\n",
            "List after removing all the values: \n",
            "[]\n"
          ]
        }
      ]
    },
    {
      "cell_type": "code",
      "source": [
        "# Delete the entire list\n",
        "del l\n",
        "print(l)"
      ],
      "metadata": {
        "colab": {
          "base_uri": "https://localhost:8080/",
          "height": 200
        },
        "id": "UwB1VhMPdDud",
        "outputId": "acb623ab-af72-498a-bdbc-a8172570caa8"
      },
      "execution_count": 85,
      "outputs": [
        {
          "output_type": "error",
          "ename": "NameError",
          "evalue": "ignored",
          "traceback": [
            "\u001b[0;31m---------------------------------------------------------------------------\u001b[0m",
            "\u001b[0;31mNameError\u001b[0m                                 Traceback (most recent call last)",
            "\u001b[0;32m<ipython-input-85-099335a8b924>\u001b[0m in \u001b[0;36m<cell line: 3>\u001b[0;34m()\u001b[0m\n\u001b[1;32m      1\u001b[0m \u001b[0;31m# Delete the entire list\u001b[0m\u001b[0;34m\u001b[0m\u001b[0;34m\u001b[0m\u001b[0m\n\u001b[1;32m      2\u001b[0m \u001b[0;32mdel\u001b[0m \u001b[0ml\u001b[0m\u001b[0;34m\u001b[0m\u001b[0;34m\u001b[0m\u001b[0m\n\u001b[0;32m----> 3\u001b[0;31m \u001b[0mprint\u001b[0m\u001b[0;34m(\u001b[0m\u001b[0ml\u001b[0m\u001b[0;34m)\u001b[0m\u001b[0;34m\u001b[0m\u001b[0;34m\u001b[0m\u001b[0m\n\u001b[0m",
            "\u001b[0;31mNameError\u001b[0m: name 'l' is not defined"
          ]
        }
      ]
    },
    {
      "cell_type": "markdown",
      "metadata": {
        "id": "cYyKuo3E2v2K"
      },
      "source": [
        "## State and identity\n",
        "\n",
        "- The state referred to by a variable is *different* from its identity.\n",
        "\n",
        "- To compare *state* use the `==` operator.\n",
        "\n",
        "- To compare *identity* use the `is` operator.\n",
        "\n",
        "- When we compare identity we check equality of references.\n",
        "\n",
        "- When we compare state we check equality of values.\n"
      ]
    },
    {
      "cell_type": "code",
      "execution_count": 86,
      "metadata": {
        "id": "7gsTdK3x2v2Q"
      },
      "outputs": [],
      "source": [
        "# create a list names that contians element 'Earth','Air','Fire','Water'\n",
        "names = ['Earth','Air','Fire','Water']"
      ]
    },
    {
      "cell_type": "markdown",
      "metadata": {
        "id": "YO26ks-d2v2Q"
      },
      "source": [
        "Lets check if the items 'Air' and 'Wind' are present in the list or not"
      ]
    },
    {
      "cell_type": "code",
      "execution_count": 87,
      "metadata": {
        "id": "nzdbaLre2v2R",
        "outputId": "b9b08503-5f1e-483a-f0bc-45d8d9d74f0b",
        "colab": {
          "base_uri": "https://localhost:8080/"
        }
      },
      "outputs": [
        {
          "output_type": "execute_result",
          "data": {
            "text/plain": [
              "False"
            ]
          },
          "metadata": {},
          "execution_count": 87
        }
      ],
      "source": [
        "# check if Wind is present in names list\n",
        "'Wind' in names\n"
      ]
    },
    {
      "cell_type": "code",
      "execution_count": 88,
      "metadata": {
        "id": "pELRsJ-z2v2R",
        "outputId": "b54e33fd-7ed2-493c-9be6-5c8a213ef8a3",
        "colab": {
          "base_uri": "https://localhost:8080/"
        }
      },
      "outputs": [
        {
          "output_type": "execute_result",
          "data": {
            "text/plain": [
              "True"
            ]
          },
          "metadata": {},
          "execution_count": 88
        }
      ],
      "source": [
        "# check if Air is present in names list\n",
        "'Air' in names\n"
      ]
    },
    {
      "cell_type": "code",
      "execution_count": 89,
      "metadata": {
        "id": "OtoTgzwr2v2L"
      },
      "outputs": [],
      "source": [
        "# create a list X = [1,2] , create a list Y = [1] and append 2 to Y\n",
        "X=[1,2]\n",
        "Y=[1]"
      ]
    },
    {
      "cell_type": "code",
      "source": [
        "Y.append(2)\n",
        "Y"
      ],
      "metadata": {
        "colab": {
          "base_uri": "https://localhost:8080/"
        },
        "id": "FL6AEfQiGTBo",
        "outputId": "8a558a05-354f-4aa3-fd36-2f94679ac2da"
      },
      "execution_count": 91,
      "outputs": [
        {
          "output_type": "execute_result",
          "data": {
            "text/plain": [
              "[1, 2, 2]"
            ]
          },
          "metadata": {},
          "execution_count": 91
        }
      ]
    },
    {
      "cell_type": "code",
      "execution_count": 92,
      "metadata": {
        "id": "bRQrDpmr2v2M",
        "outputId": "d22b6233-aa2a-47ab-ef5a-6369a63591b6",
        "colab": {
          "base_uri": "https://localhost:8080/"
        }
      },
      "outputs": [
        {
          "output_type": "execute_result",
          "data": {
            "text/plain": [
              "False"
            ]
          },
          "metadata": {},
          "execution_count": 92
        }
      ],
      "source": [
        "# check X and Y using \"==\" operator\n",
        "X==Y"
      ]
    },
    {
      "cell_type": "code",
      "execution_count": 93,
      "metadata": {
        "id": "qnvj-x_r2v2M",
        "outputId": "db2ce65a-d686-4ea8-bb01-73b4b31804ff",
        "colab": {
          "base_uri": "https://localhost:8080/"
        }
      },
      "outputs": [
        {
          "output_type": "execute_result",
          "data": {
            "text/plain": [
              "False"
            ]
          },
          "metadata": {},
          "execution_count": 93
        }
      ],
      "source": [
        "# check the same with \"is\" operator\n",
        "X is Y"
      ]
    },
    {
      "cell_type": "code",
      "execution_count": 94,
      "metadata": {
        "id": "d6Ac1U8i2v2N"
      },
      "outputs": [],
      "source": [
        "# if you append 3 to Y, x does not change. check?\n",
        "Y.append(3)"
      ]
    },
    {
      "cell_type": "markdown",
      "metadata": {
        "id": "118DUOx82v2X"
      },
      "source": [
        "## Sorting"
      ]
    },
    {
      "cell_type": "code",
      "execution_count": 96,
      "metadata": {
        "id": "96Kni9z-2v2X",
        "outputId": "7a527d82-8e75-45e6-9bef-78f0b7ea0564",
        "colab": {
          "base_uri": "https://localhost:8080/"
        }
      },
      "outputs": [
        {
          "output_type": "stream",
          "name": "stdout",
          "text": [
            "['Air', 'Earth', 'Fire', 'Water']\n"
          ]
        },
        {
          "output_type": "execute_result",
          "data": {
            "text/plain": [
              "['Water', 'Fire', 'Earth', 'Air']"
            ]
          },
          "metadata": {},
          "execution_count": 96
        }
      ],
      "source": [
        "# sort the list names\n",
        "names.sort()\n",
        "print(names)\n",
        "\n",
        "#reverse sort the list names\n",
        "names.sort(reverse=True)\n",
        "names\n"
      ]
    },
    {
      "cell_type": "markdown",
      "metadata": {
        "id": "heyQl-jm2v2X"
      },
      "source": [
        "## Reversing"
      ]
    },
    {
      "cell_type": "code",
      "execution_count": null,
      "metadata": {
        "id": "cqQjw_M62v2Y",
        "outputId": "942da79d-8963-425d-9b7d-8a8d105bdb96",
        "colab": {
          "base_uri": "https://localhost:8080/"
        }
      },
      "outputs": [
        {
          "output_type": "stream",
          "name": "stdout",
          "text": [
            "['Water', 'Fire', 'Air', 'Earth']\n",
            "['Earth', 'Air', 'Fire', 'Water']\n",
            "['Water', 'Fire', 'Air', 'Earth']\n"
          ]
        }
      ],
      "source": [
        "# Reverse the list\n"
      ]
    },
    {
      "cell_type": "markdown",
      "metadata": {
        "id": "31l0ci1b2v2b"
      },
      "source": [
        "# Tuples  \n",
        "\n",
        "- Tuples are another way to combine different values.\n",
        "\n",
        "- The combined values can be of different types.\n",
        "\n",
        "- Like lists, they have a well-defined ordering and can be indexed.\n",
        "\n",
        "- To create a tuple in Python, use round brackets i.e **(** ) instead of square brackets which are used for lists."
      ]
    },
    {
      "cell_type": "markdown",
      "source": [
        "### Ways to create tuple object\n",
        "1. Using brackets like **(** **)** [ *Most common way to create a tuple* ]\n",
        "2. Using comma seperated values\n",
        "3. Using `tuple()` in built function"
      ],
      "metadata": {
        "id": "o5q3eJspWKfa"
      }
    },
    {
      "cell_type": "code",
      "execution_count": 98,
      "metadata": {
        "id": "7_V-HXHW2v2b",
        "outputId": "a5514175-9637-41d4-fab8-f32ca3739dea",
        "colab": {
          "base_uri": "https://localhost:8080/"
        }
      },
      "outputs": [
        {
          "output_type": "execute_result",
          "data": {
            "text/plain": [
              "(0, 'hello')"
            ]
          },
          "metadata": {},
          "execution_count": 98
        }
      ],
      "source": [
        "# create a tuple with elements 0 and 'hello'\n",
        "a=(0,'hello')\n",
        "a"
      ]
    },
    {
      "cell_type": "code",
      "execution_count": 100,
      "metadata": {
        "id": "7sQUXTCR2v2b",
        "outputId": "b0c0299a-0127-4e03-9ddd-35b6ac46b8ef",
        "colab": {
          "base_uri": "https://localhost:8080/"
        }
      },
      "outputs": [
        {
          "output_type": "execute_result",
          "data": {
            "text/plain": [
              "tuple"
            ]
          },
          "metadata": {},
          "execution_count": 100
        }
      ],
      "source": [
        "# print first and second element of type, also print type\n",
        "a[0]\n",
        "a[1]\n",
        "type(a)"
      ]
    },
    {
      "cell_type": "code",
      "source": [
        "# create a tuple with elements 0 and 'hello'\n",
        "tuple_1 = 0, 'hello'\n",
        "print(tuple_1)\n",
        "print(type(tuple_1))"
      ],
      "metadata": {
        "colab": {
          "base_uri": "https://localhost:8080/"
        },
        "id": "DIsNnk2qWgOq",
        "outputId": "5f61e6b6-9d91-41b4-c37a-9ba3261838cf"
      },
      "execution_count": 101,
      "outputs": [
        {
          "output_type": "stream",
          "name": "stdout",
          "text": [
            "(0, 'hello')\n",
            "<class 'tuple'>\n"
          ]
        }
      ]
    },
    {
      "cell_type": "markdown",
      "source": [
        "if you want to create a tuple with single value then make sure to pass a comma after first value."
      ],
      "metadata": {
        "id": "1sPAxSC0WpgZ"
      }
    },
    {
      "cell_type": "code",
      "source": [
        "## Is this tuple?\n",
        "tuple_2 = 'Relevel'  ## Without comma it considered as a string"
      ],
      "metadata": {
        "colab": {
          "base_uri": "https://localhost:8080/"
        },
        "id": "e6yARlGjWnn6",
        "outputId": "49dbadf0-a946-474a-ca13-de6d2ff009a5"
      },
      "execution_count": null,
      "outputs": [
        {
          "output_type": "stream",
          "name": "stdout",
          "text": [
            "Relevel\n",
            "<class 'str'>\n"
          ]
        }
      ]
    },
    {
      "cell_type": "code",
      "source": [
        "# Create the same above string as a tuple\n",
        "tuple_2 = 'Relevel'\n",
        "print(tuple_2)\n",
        "print(type(tuple_2))"
      ],
      "metadata": {
        "colab": {
          "base_uri": "https://localhost:8080/"
        },
        "id": "oR2mdwaKW6aq",
        "outputId": "867ffb62-408e-45e6-fa6b-e82e6acb4a86"
      },
      "execution_count": null,
      "outputs": [
        {
          "output_type": "stream",
          "name": "stdout",
          "text": [
            "('Relevel',)\n",
            "<class 'tuple'>\n"
          ]
        }
      ]
    },
    {
      "cell_type": "code",
      "source": [
        "## Convert a string into tuple\n",
        "name = \"Relevel\"\n",
        "\n"
      ],
      "metadata": {
        "colab": {
          "base_uri": "https://localhost:8080/"
        },
        "id": "dzbvbgJOXA9R",
        "outputId": "ea3f3225-4e5b-4742-ddcb-570e647997f7"
      },
      "execution_count": null,
      "outputs": [
        {
          "output_type": "stream",
          "name": "stdout",
          "text": [
            "('R', 'e', 'l', 'e', 'v', 'e', 'l')\n",
            "<class 'tuple'>\n"
          ]
        }
      ]
    },
    {
      "cell_type": "markdown",
      "metadata": {
        "id": "Sc6y7hJc2v2c"
      },
      "source": [
        "## Tuples are immutable\n",
        "\n",
        "- Unlike lists, tuples are *immutable*.  Once we have created a tuple we cannot add values to it.\n"
      ]
    },
    {
      "cell_type": "code",
      "source": [
        "## Immutable Tuple\n",
        "## Try converting r to R\n",
        "\n",
        "company = 'relevel'\n",
        "\n",
        "company[0] = 'R'"
      ],
      "metadata": {
        "colab": {
          "base_uri": "https://localhost:8080/",
          "height": 200
        },
        "id": "6godJqma7IuI",
        "outputId": "0142389f-6be2-4590-bf8c-d82ff3708f93"
      },
      "execution_count": 102,
      "outputs": [
        {
          "output_type": "error",
          "ename": "TypeError",
          "evalue": "ignored",
          "traceback": [
            "\u001b[0;31m---------------------------------------------------------------------------\u001b[0m",
            "\u001b[0;31mTypeError\u001b[0m                                 Traceback (most recent call last)",
            "\u001b[0;32m<ipython-input-102-52c21b4ee29c>\u001b[0m in \u001b[0;36m<cell line: 6>\u001b[0;34m()\u001b[0m\n\u001b[1;32m      4\u001b[0m \u001b[0mcompany\u001b[0m \u001b[0;34m=\u001b[0m \u001b[0;34m'relevel'\u001b[0m\u001b[0;34m\u001b[0m\u001b[0;34m\u001b[0m\u001b[0m\n\u001b[1;32m      5\u001b[0m \u001b[0;34m\u001b[0m\u001b[0m\n\u001b[0;32m----> 6\u001b[0;31m \u001b[0mcompany\u001b[0m\u001b[0;34m[\u001b[0m\u001b[0;36m0\u001b[0m\u001b[0;34m]\u001b[0m \u001b[0;34m=\u001b[0m \u001b[0;34m'R'\u001b[0m\u001b[0;34m\u001b[0m\u001b[0;34m\u001b[0m\u001b[0m\n\u001b[0m",
            "\u001b[0;31mTypeError\u001b[0m: 'str' object does not support item assignment"
          ]
        }
      ]
    },
    {
      "cell_type": "code",
      "execution_count": 103,
      "metadata": {
        "id": "MHOb8vKP2v2c",
        "outputId": "c026cfa5-dfdf-4243-f39b-fae50fee637f",
        "colab": {
          "base_uri": "https://localhost:8080/",
          "height": 183
        }
      },
      "outputs": [
        {
          "output_type": "error",
          "ename": "AttributeError",
          "evalue": "ignored",
          "traceback": [
            "\u001b[0;31m---------------------------------------------------------------------------\u001b[0m",
            "\u001b[0;31mAttributeError\u001b[0m                            Traceback (most recent call last)",
            "\u001b[0;32m<ipython-input-103-5e5143a977fb>\u001b[0m in \u001b[0;36m<cell line: 2>\u001b[0;34m()\u001b[0m\n\u001b[1;32m      1\u001b[0m \u001b[0;31m# try to append a number 23 to the tuple - tuple_1\u001b[0m\u001b[0;34m\u001b[0m\u001b[0;34m\u001b[0m\u001b[0m\n\u001b[0;32m----> 2\u001b[0;31m \u001b[0ma\u001b[0m\u001b[0;34m.\u001b[0m\u001b[0mappend\u001b[0m\u001b[0;34m(\u001b[0m\u001b[0;36m23\u001b[0m\u001b[0;34m)\u001b[0m\u001b[0;34m\u001b[0m\u001b[0;34m\u001b[0m\u001b[0m\n\u001b[0m",
            "\u001b[0;31mAttributeError\u001b[0m: 'tuple' object has no attribute 'append'"
          ]
        }
      ],
      "source": [
        "# try to append a number 23 to the tuple - tuple_1\n",
        "a.append(23)"
      ]
    },
    {
      "cell_type": "code",
      "source": [
        "# Will this work?\n",
        "tuple_1[2] = \"hi\""
      ],
      "metadata": {
        "colab": {
          "base_uri": "https://localhost:8080/",
          "height": 171
        },
        "id": "V3ML3IYTYDQp",
        "outputId": "30f676d7-b64c-4a0b-89b8-27bb78dd27ee"
      },
      "execution_count": null,
      "outputs": [
        {
          "output_type": "error",
          "ename": "TypeError",
          "evalue": "ignored",
          "traceback": [
            "\u001b[0;31m---------------------------------------------------------------------------\u001b[0m",
            "\u001b[0;31mTypeError\u001b[0m                                 Traceback (most recent call last)",
            "\u001b[0;32m<ipython-input-10-5af081692cfe>\u001b[0m in \u001b[0;36m<module>\u001b[0;34m()\u001b[0m\n\u001b[0;32m----> 1\u001b[0;31m \u001b[0mtuple_1\u001b[0m\u001b[0;34m[\u001b[0m\u001b[0;36m2\u001b[0m\u001b[0;34m]\u001b[0m \u001b[0;34m=\u001b[0m \u001b[0;34m\"hi\"\u001b[0m\u001b[0;34m\u001b[0m\u001b[0;34m\u001b[0m\u001b[0m\n\u001b[0m",
            "\u001b[0;31mTypeError\u001b[0m: 'tuple' object does not support item assignment"
          ]
        }
      ]
    },
    {
      "cell_type": "code",
      "source": [
        "# Delete 2nd item from the tuple\n"
      ],
      "metadata": {
        "colab": {
          "base_uri": "https://localhost:8080/",
          "height": 171
        },
        "id": "Z8gKJ98vfydp",
        "outputId": "cb0e6c19-31cb-4447-9423-dad9adeb9313"
      },
      "execution_count": null,
      "outputs": [
        {
          "output_type": "error",
          "ename": "TypeError",
          "evalue": "ignored",
          "traceback": [
            "\u001b[0;31m---------------------------------------------------------------------------\u001b[0m",
            "\u001b[0;31mTypeError\u001b[0m                                 Traceback (most recent call last)",
            "\u001b[0;32m<ipython-input-34-31315cadb731>\u001b[0m in \u001b[0;36m<module>\u001b[0;34m()\u001b[0m\n\u001b[0;32m----> 1\u001b[0;31m \u001b[0;32mdel\u001b[0m \u001b[0mtuple_1\u001b[0m\u001b[0;34m[\u001b[0m\u001b[0;36m2\u001b[0m\u001b[0;34m]\u001b[0m\u001b[0;34m\u001b[0m\u001b[0;34m\u001b[0m\u001b[0m\n\u001b[0m",
            "\u001b[0;31mTypeError\u001b[0m: 'tuple' object doesn't support item deletion"
          ]
        }
      ]
    },
    {
      "cell_type": "code",
      "source": [
        "## Delete the Tuple\n",
        "del a\n",
        "a"
      ],
      "metadata": {
        "id": "WlREP6K4f8-v",
        "colab": {
          "base_uri": "https://localhost:8080/",
          "height": 200
        },
        "outputId": "150c8c18-3dee-45e3-c61b-0d3925ac2a50"
      },
      "execution_count": 105,
      "outputs": [
        {
          "output_type": "error",
          "ename": "NameError",
          "evalue": "ignored",
          "traceback": [
            "\u001b[0;31m---------------------------------------------------------------------------\u001b[0m",
            "\u001b[0;31mNameError\u001b[0m                                 Traceback (most recent call last)",
            "\u001b[0;32m<ipython-input-105-1d25215c9b60>\u001b[0m in \u001b[0;36m<cell line: 2>\u001b[0;34m()\u001b[0m\n\u001b[1;32m      1\u001b[0m \u001b[0;31m## Delete the Tuple\u001b[0m\u001b[0;34m\u001b[0m\u001b[0;34m\u001b[0m\u001b[0m\n\u001b[0;32m----> 2\u001b[0;31m \u001b[0;32mdel\u001b[0m \u001b[0ma\u001b[0m\u001b[0;34m\u001b[0m\u001b[0;34m\u001b[0m\u001b[0m\n\u001b[0m\u001b[1;32m      3\u001b[0m \u001b[0ma\u001b[0m\u001b[0;34m\u001b[0m\u001b[0;34m\u001b[0m\u001b[0m\n",
            "\u001b[0;31mNameError\u001b[0m: name 'a' is not defined"
          ]
        }
      ]
    },
    {
      "cell_type": "markdown",
      "metadata": {
        "id": "Bo4bcHej2v2c"
      },
      "source": [
        "Tuples are similar to lists but only big difference is the elements inside a list can be changed but in tuple it cannot be changed. Think of tuples as something which has to be True for a particular something and cannot be True for no other values. \n"
      ]
    },
    {
      "cell_type": "markdown",
      "metadata": {
        "id": "S5ClpeXy2v2c"
      },
      "source": [
        "If you want to directly declare a tuple it can be done by using a comma at the end of the data. [MOVE IT PRATICE SESSION]"
      ]
    },
    {
      "cell_type": "code",
      "execution_count": 107,
      "metadata": {
        "id": "P3WWSsje2v2d",
        "outputId": "0350bced-7ec5-48a7-d98b-f2221385b421",
        "colab": {
          "base_uri": "https://localhost:8080/"
        }
      },
      "outputs": [
        {
          "output_type": "execute_result",
          "data": {
            "text/plain": [
              "(27,)"
            ]
          },
          "metadata": {},
          "execution_count": 107
        }
      ],
      "source": [
        "# create a tuple using , \n",
        "a=(27,)\n",
        "a"
      ]
    },
    {
      "cell_type": "markdown",
      "metadata": {
        "id": "Rkl7FRV52v2d"
      },
      "source": [
        "27 when multiplied by 2 yields 54, But when multiplied with a tuple the data is repeated twice."
      ]
    },
    {
      "cell_type": "code",
      "execution_count": 109,
      "metadata": {
        "id": "f5ymPnKB2v2d",
        "outputId": "b463ad2d-3afe-47bd-f95d-294dcb100864",
        "colab": {
          "base_uri": "https://localhost:8080/"
        }
      },
      "outputs": [
        {
          "output_type": "execute_result",
          "data": {
            "text/plain": [
              "(27, 27)"
            ]
          },
          "metadata": {},
          "execution_count": 109
        }
      ],
      "source": [
        "# multiply the create tuple by 2 and see the results \n",
        "a*2"
      ]
    },
    {
      "cell_type": "markdown",
      "metadata": {
        "id": "H158AzeR2v2d"
      },
      "source": [
        "Values can be assigned while declaring a tuple. It takes a list as input and converts it into a tuple or it takes a string and converts it into a tuple."
      ]
    },
    {
      "cell_type": "code",
      "execution_count": 110,
      "metadata": {
        "id": "D-I6nKim2v2e",
        "outputId": "15508711-b038-4762-c294-1af8653bc083",
        "colab": {
          "base_uri": "https://localhost:8080/"
        }
      },
      "outputs": [
        {
          "output_type": "execute_result",
          "data": {
            "text/plain": [
              "(1, 2, 3)"
            ]
          },
          "metadata": {},
          "execution_count": 110
        }
      ],
      "source": [
        "# crate a tuple named tuple_3 from a list of numbers 1,2,3\n",
        "tuple_3=(1,2,3)\n",
        "tuple_3"
      ]
    },
    {
      "cell_type": "markdown",
      "metadata": {
        "id": "EtuamHUp2v2e"
      },
      "source": [
        "## Slicing  \n",
        "Slicing is very similar to lists"
      ]
    },
    {
      "cell_type": "code",
      "source": [
        "tuple_2 = (10, 100, 1000, 10000)\n",
        "\n",
        "# get the second element of tuple_2\n",
        "tuple_2[1]\n",
        "\n",
        "# get the second element of tuple_2\n"
      ],
      "metadata": {
        "colab": {
          "base_uri": "https://localhost:8080/"
        },
        "id": "VFDnXoktYW4X",
        "outputId": "c7fe3b44-856d-487a-8e25-24e6e897bcf9"
      },
      "execution_count": 113,
      "outputs": [
        {
          "output_type": "execute_result",
          "data": {
            "text/plain": [
              "100"
            ]
          },
          "metadata": {},
          "execution_count": 113
        }
      ]
    },
    {
      "cell_type": "code",
      "source": [
        "tuple_3 = tuple_2, (20, 200, 2000, 20000)\n",
        "tuple_3\n",
        "\n",
        "# get the second element of tuple _3\n",
        "tuple_3[1]\n",
        "\n",
        "\n",
        "# get the second element of tuple _3\n"
      ],
      "metadata": {
        "colab": {
          "base_uri": "https://localhost:8080/"
        },
        "id": "elRTL-_2Y2gm",
        "outputId": "273871b8-7fd6-47fd-f48b-fa7f80a18622"
      },
      "execution_count": 116,
      "outputs": [
        {
          "output_type": "execute_result",
          "data": {
            "text/plain": [
              "(20, 200, 2000, 20000)"
            ]
          },
          "metadata": {},
          "execution_count": 116
        }
      ]
    },
    {
      "cell_type": "code",
      "execution_count": 119,
      "metadata": {
        "id": "mte-s5vq2v2e",
        "outputId": "52c511da-a2d3-4184-daad-a4dc434cdfb7",
        "colab": {
          "base_uri": "https://localhost:8080/"
        }
      },
      "outputs": [
        {
          "output_type": "execute_result",
          "data": {
            "text/plain": [
              "('G', 'O', 'O')"
            ]
          },
          "metadata": {},
          "execution_count": 119
        }
      ],
      "source": [
        "tuple_4 = tuple('GOOD MORNING')\n",
        "tuple_4[:3]\n",
        "# get the first three letters of tuple GOOD MORNING\n"
      ]
    },
    {
      "cell_type": "markdown",
      "source": [
        "## Indexing  \n",
        "Indexing is again very similar to lists"
      ],
      "metadata": {
        "id": "w9gsbqz5Yudx"
      }
    },
    {
      "cell_type": "code",
      "source": [
        "tuple_3 = 10, 100, 1000, 10000, 100000, 1000000\n",
        "\n"
      ],
      "metadata": {
        "colab": {
          "base_uri": "https://localhost:8080/"
        },
        "id": "eMuyFzslYy-P",
        "outputId": "0cba9048-2ba2-4f6a-820e-57047bdad0c3"
      },
      "execution_count": null,
      "outputs": [
        {
          "output_type": "stream",
          "name": "stdout",
          "text": [
            "(100, 1000)\n",
            "(100, 10000)\n",
            "(10000, 100000, 1000000)\n",
            "(10, 100, 1000)\n",
            "(10, 100, 1000)\n",
            "(10000, 100000, 1000000)\n",
            "(10000, 100000)\n"
          ]
        }
      ]
    },
    {
      "cell_type": "markdown",
      "metadata": {
        "id": "OYX74om42v2e"
      },
      "source": [
        "## Built In Tuple functions  \n",
        "**count()** function counts the number of specified element that is present in the tuple.  \n",
        "**index()** function returns the index of the specified element. If the elements are more than one then the index of the first element of that specified element is returned"
      ]
    },
    {
      "cell_type": "code",
      "execution_count": 123,
      "metadata": {
        "id": "WmxYo-R72v2f",
        "outputId": "41774de0-a5f1-4ca3-aa96-d561bbc5f960",
        "colab": {
          "base_uri": "https://localhost:8080/"
        }
      },
      "outputs": [
        {
          "output_type": "execute_result",
          "data": {
            "text/plain": [
              "1"
            ]
          },
          "metadata": {},
          "execution_count": 123
        }
      ],
      "source": [
        "# create a tuple named example with numbers 0,1,2,3,4,5,1,2,1 and use count and index\n",
        "example = (0,1,2,3,4,5,1,2,1)\n",
        "\n",
        "# use count\n",
        "example.count(1)\n",
        "\n",
        "\n",
        "# use index\n",
        "example[1]\n"
      ]
    },
    {
      "cell_type": "markdown",
      "metadata": {
        "id": "wCdLch-a2v2f"
      },
      "source": [
        "# Dictionary"
      ]
    },
    {
      "cell_type": "markdown",
      "metadata": {
        "id": "flQvZGGY2v2f"
      },
      "source": [
        "Dictionaries are more used like a database because here you can index a particular sequence with your user defined string. To define a dictionary, equate a variable to { } or dict()"
      ]
    },
    {
      "cell_type": "code",
      "execution_count": 126,
      "metadata": {
        "id": "xL_fss0D2v2g",
        "outputId": "842e652e-0ddd-4d14-9352-84df56f8c0d7",
        "colab": {
          "base_uri": "https://localhost:8080/"
        }
      },
      "outputs": [
        {
          "output_type": "execute_result",
          "data": {
            "text/plain": [
              "{1: 'apple', 2: 'banana'}"
            ]
          },
          "metadata": {},
          "execution_count": 126
        }
      ],
      "source": [
        "d={'fruit':'apple',1:[1,2,3]}\n",
        "d\n",
        "\n",
        "# initialise using dict()\n",
        "f=dict([(1,\"apple\"),(2,\"banana\")])\n",
        "f\n",
        "\n",
        "\n"
      ]
    },
    {
      "cell_type": "markdown",
      "metadata": {
        "id": "17YFUn9k2v2g"
      },
      "source": [
        "## Dictionary Operators"
      ]
    },
    {
      "cell_type": "code",
      "execution_count": 127,
      "metadata": {
        "id": "lURt8yHP2v2i",
        "colab": {
          "base_uri": "https://localhost:8080/"
        },
        "outputId": "5e801f04-1b2f-4bf9-814c-da5a289ccda3"
      },
      "outputs": [
        {
          "output_type": "execute_result",
          "data": {
            "text/plain": [
              "{'Maharashtra': 'Mumbai', 'Tamil Nadu': 'Chennai'}"
            ]
          },
          "metadata": {},
          "execution_count": 127
        }
      ],
      "source": [
        "# create a dictionary with keys as Maharashtra and Tamil Nadu and values as Mumbai and Chennai\n",
        "g={'Maharashtra':'Mumbai','Tamil Nadu':'Chennai'}\n",
        "g\n"
      ]
    },
    {
      "cell_type": "markdown",
      "source": [
        "## Update Dictionary\n",
        "1. Using **assignment (=)** operator. Dictionary works somewhat like a list but with an added capability of assigning it's own index style.\n",
        "2. Using **update()** function"
      ],
      "metadata": {
        "id": "ZcDWWnd3Mct3"
      }
    },
    {
      "cell_type": "code",
      "source": [
        "#create a new key Rajasthan whose capital(value) is Jaipur\n",
        "f.update({'Rajasthan':'Jaipur'})\n",
        "f\n",
        "\n",
        "\n",
        "#create another key-value i.e 'Punjab' : 'Chandigarh' pair using update()\n"
      ],
      "metadata": {
        "colab": {
          "base_uri": "https://localhost:8080/"
        },
        "id": "HrsKhh9OHUYS",
        "outputId": "abaac3c4-1a21-404b-88dc-0edf784d5a48"
      },
      "execution_count": 129,
      "outputs": [
        {
          "output_type": "execute_result",
          "data": {
            "text/plain": [
              "{1: 'apple', 2: 'banana', 'Rajasthan': 'Jaipur'}"
            ]
          },
          "metadata": {},
          "execution_count": 129
        }
      ]
    },
    {
      "cell_type": "markdown",
      "metadata": {
        "id": "GFTVJ0L42v2i"
      },
      "source": [
        "Dictionary keys are unique and hence we cannot have two similar keys. Values can be the same though."
      ]
    },
    {
      "cell_type": "code",
      "execution_count": 130,
      "metadata": {
        "id": "vqGfpB7p2v2i",
        "outputId": "8c580ff2-4ebb-4f77-f6be-d4e2fd5f12fe",
        "colab": {
          "base_uri": "https://localhost:8080/"
        }
      },
      "outputs": [
        {
          "output_type": "execute_result",
          "data": {
            "text/plain": [
              "{1: 'apple', 2: 'banana', 'Rajasthan': 'Jaipur', 'Haryana': 'Chandigarh'}"
            ]
          },
          "metadata": {},
          "execution_count": 130
        }
      ],
      "source": [
        "# add another key value pair Haryana and Chandigarh\n",
        "f.update({'Haryana':'Chandigarh'})\n",
        "f\n"
      ]
    },
    {
      "cell_type": "code",
      "source": [],
      "metadata": {
        "id": "-PTmiG26LnKW"
      },
      "execution_count": 131,
      "outputs": []
    },
    {
      "cell_type": "code",
      "source": [
        "capitals['List_Values']= [0, 1, 2, 3, 4]"
      ],
      "metadata": {
        "id": "yqgrsJxgLNgf"
      },
      "execution_count": null,
      "outputs": []
    },
    {
      "cell_type": "code",
      "source": [
        "print(capitals)"
      ],
      "metadata": {
        "colab": {
          "base_uri": "https://localhost:8080/"
        },
        "id": "UpuSFDfLLgG-",
        "outputId": "997dd0c4-fe9a-45e1-f030-9d965c43d19e"
      },
      "execution_count": null,
      "outputs": [
        {
          "output_type": "stream",
          "name": "stdout",
          "text": [
            "{'Maharashtra': 'Mumbai', 'Tamil Nadu': 'Chennai', 'Rajasthan': 'Jaipur', 'Punjab': 'Chandigarh', 'Haryana': 'Chandigarh', 0: 1, 'Nested_dict': {'Key1': 'Value 1', 'Key2': 2}, 'List_Values': [0, 1, 2, 3, 4]}\n"
          ]
        }
      ]
    },
    {
      "cell_type": "markdown",
      "source": [
        "## Accessing the value of a Dictionary"
      ],
      "metadata": {
        "id": "PQnYS4wAMuLe"
      }
    },
    {
      "cell_type": "markdown",
      "metadata": {
        "id": "gxwW9SK-2v2g"
      },
      "source": [
        "Lets look at some of the operators in Python\n",
        "\n",
        "[ ] : usage -> myDict[k] ,Returns the value associated with k, otherwise its an error"
      ]
    },
    {
      "cell_type": "code",
      "source": [
        "#get the capital of Maharashtra\n",
        "f.get('Maharashtra','error')\n"
      ],
      "metadata": {
        "colab": {
          "base_uri": "https://localhost:8080/",
          "height": 35
        },
        "id": "wPzQN13rK0eh",
        "outputId": "834b7c3e-908d-403a-81a1-3133bf106004"
      },
      "execution_count": 132,
      "outputs": [
        {
          "output_type": "execute_result",
          "data": {
            "text/plain": [
              "'error'"
            ],
            "application/vnd.google.colaboratory.intrinsic+json": {
              "type": "string"
            }
          },
          "metadata": {},
          "execution_count": 132
        }
      ]
    },
    {
      "cell_type": "markdown",
      "source": [
        "### Accessing the nested values"
      ],
      "metadata": {
        "id": "tavBdcPQNO6N"
      }
    },
    {
      "cell_type": "code",
      "source": [
        "# Access Key1 from capitals\n"
      ],
      "metadata": {
        "colab": {
          "base_uri": "https://localhost:8080/"
        },
        "id": "KAs8YQMSNOZe",
        "outputId": "9d8459d8-9b92-467b-842c-5fb0188f06ab"
      },
      "execution_count": null,
      "outputs": [
        {
          "output_type": "stream",
          "name": "stdout",
          "text": [
            "Value 1\n"
          ]
        }
      ]
    },
    {
      "cell_type": "code",
      "source": [
        "# Access 2 from capitals\n"
      ],
      "metadata": {
        "colab": {
          "base_uri": "https://localhost:8080/"
        },
        "id": "7GQf_TjuNisa",
        "outputId": "ef6cbaad-a492-4c2a-c2d2-320ff865b3e7"
      },
      "execution_count": null,
      "outputs": [
        {
          "output_type": "stream",
          "name": "stdout",
          "text": [
            "2\n"
          ]
        }
      ]
    },
    {
      "cell_type": "markdown",
      "source": [
        "## Deleting the value from Dictionary\n",
        "\n",
        "**del**\toperator : usage -> del adict[key] , Removes the entry from the dictionary"
      ],
      "metadata": {
        "id": "ph7Hpf9MPVzT"
      }
    },
    {
      "cell_type": "code",
      "source": [
        "# Delete Punjab from capital\n",
        "a={0: 1,\n",
        " 'Haryana': 'Chandigarh',\n",
        " 'List_Values': [0, 1, 2, 3, 4],\n",
        " 'Maharashtra': 'Mumbai',\n",
        " 'Nested_dict': {'Key1': 'Value 1', 'Key2': 2},\n",
        " 'Rajasthan': 'Jaipur',\n",
        " 'Tamil Nadu': 'Chennai'}\n",
        " "
      ],
      "metadata": {
        "id": "aZrfA8gpPuZS"
      },
      "execution_count": 133,
      "outputs": []
    },
    {
      "cell_type": "code",
      "source": [
        "# Delete 3 from List_Va\n",
        "a['List_Values'].pop()\n"
      ],
      "metadata": {
        "colab": {
          "base_uri": "https://localhost:8080/"
        },
        "id": "2fcrlumiQLIC",
        "outputId": "95a16827-5b24-4996-d213-e00235a6ed8a"
      },
      "execution_count": 151,
      "outputs": [
        {
          "output_type": "execute_result",
          "data": {
            "text/plain": [
              "2"
            ]
          },
          "metadata": {},
          "execution_count": 151
        }
      ]
    },
    {
      "cell_type": "code",
      "source": [
        "# Pop item in Dict\n"
      ],
      "metadata": {
        "id": "0Q5tu53zQTKB"
      },
      "execution_count": 153,
      "outputs": []
    },
    {
      "cell_type": "code",
      "source": [
        "\"# Pop Nested_dict in Dict\n"
      ],
      "metadata": {
        "colab": {
          "base_uri": "https://localhost:8080/"
        },
        "id": "AkJvxP2sRmBg",
        "outputId": "4d4150f1-5482-481a-8f01-73c2c2ab3464"
      },
      "execution_count": null,
      "outputs": [
        {
          "output_type": "stream",
          "name": "stdout",
          "text": [
            "{'Key1': 'Value 1', 'Key2': 2}\n",
            "{'Maharashtra': 'Mumbai', 'Tamil Nadu': 'Chennai', 'Rajasthan': 'Jaipur', 'Haryana': 'Chandigarh', 0: 1}\n"
          ]
        }
      ]
    },
    {
      "cell_type": "code",
      "source": [
        "# Deleting entire Dictionary\n",
        "del a\n",
        "a"
      ],
      "metadata": {
        "colab": {
          "base_uri": "https://localhost:8080/",
          "height": 200
        },
        "id": "PeI-SHAtRvHQ",
        "outputId": "cb0e4a73-210c-4d38-c922-29ed040b44cd"
      },
      "execution_count": 155,
      "outputs": [
        {
          "output_type": "error",
          "ename": "NameError",
          "evalue": "ignored",
          "traceback": [
            "\u001b[0;31m---------------------------------------------------------------------------\u001b[0m",
            "\u001b[0;31mNameError\u001b[0m                                 Traceback (most recent call last)",
            "\u001b[0;32m<ipython-input-155-f7618f49a812>\u001b[0m in \u001b[0;36m<cell line: 2>\u001b[0;34m()\u001b[0m\n\u001b[1;32m      1\u001b[0m \u001b[0;31m# Deleting entire Dictionary\u001b[0m\u001b[0;34m\u001b[0m\u001b[0;34m\u001b[0m\u001b[0m\n\u001b[0;32m----> 2\u001b[0;31m \u001b[0;32mdel\u001b[0m \u001b[0ma\u001b[0m\u001b[0;34m\u001b[0m\u001b[0;34m\u001b[0m\u001b[0m\n\u001b[0m\u001b[1;32m      3\u001b[0m \u001b[0ma\u001b[0m\u001b[0;34m\u001b[0m\u001b[0;34m\u001b[0m\u001b[0m\n",
            "\u001b[0;31mNameError\u001b[0m: name 'a' is not defined"
          ]
        }
      ]
    },
    {
      "cell_type": "markdown",
      "metadata": {
        "id": "KrDSuhKg2v2h"
      },
      "source": [
        "## Dictionary Methods\n",
        "\n",
        "**in** operator : usage -> key in adict ,Returns True if key is in the dictionary, False otherwise"
      ]
    },
    {
      "cell_type": "code",
      "execution_count": null,
      "metadata": {
        "id": "J2Kt6lJ02v2h",
        "outputId": "4683382c-0a23-4b81-9f26-5dcc4b20cef4"
      },
      "outputs": [
        {
          "data": {
            "text/plain": [
              "True"
            ]
          },
          "execution_count": 45,
          "metadata": {},
          "output_type": "execute_result"
        }
      ],
      "source": [
        "# check if 'One' is present in dict_1\n"
      ]
    },
    {
      "cell_type": "markdown",
      "metadata": {
        "id": "Fjc9-W7E2v2i"
      },
      "source": [
        "\n",
        "| Method | Use | Explanation |\n",
        "|----|---|---|\n",
        "| keys | adict.keys() |Returns the keys of the dictionary in a dict_keys object |\n",
        "| values\t| adict.values() |\tReturns the values of the dictionary in a dict_values object |\n",
        "| items\t|adict.items()\t|Returns the key-value pairs in a dict_items object|\n",
        "| get\t|adict.get(k)\t|Returns the value associated with k, None otherwise|\n",
        "| get\t|adict.get(k,alt)\t|Returns the value associated with k, alt otherwise|\n"
      ]
    },
    {
      "cell_type": "markdown",
      "metadata": {
        "id": "73M3idre2v2j"
      },
      "source": [
        "**values( )** function returns a list with all the assigned values in the dictionary./"
      ]
    },
    {
      "cell_type": "code",
      "execution_count": 160,
      "metadata": {
        "id": "Ds_czzsk2v2j",
        "outputId": "4743e7d2-8f63-4a8d-e727-5744c59a30f0",
        "colab": {
          "base_uri": "https://localhost:8080/"
        }
      },
      "outputs": [
        {
          "output_type": "execute_result",
          "data": {
            "text/plain": [
              "{'Maharashtra': 'Mumbai',\n",
              " 'Tamil Nadu': 'Chennai',\n",
              " 'Rajasthan': 'Jaipur',\n",
              " 'Punjab': 'Chandigarh',\n",
              " 'Haryana': 'Chandigarh'}"
            ]
          },
          "metadata": {},
          "execution_count": 160
        }
      ],
      "source": [
        "# print the capitals and get the data type of those values\n",
        "capitals = {'Maharashtra': 'Mumbai', 'Tamil Nadu': 'Chennai', 'Rajasthan': 'Jaipur', 'Punjab': 'Chandigarh', 'Haryana': 'Chandigarh'}\n",
        "capitals\n"
      ]
    },
    {
      "cell_type": "code",
      "execution_count": 159,
      "metadata": {
        "id": "KihFv1VH2v2j",
        "outputId": "302e0849-8db1-4fc5-fede-403abc1c8710",
        "colab": {
          "base_uri": "https://localhost:8080/"
        }
      },
      "outputs": [
        {
          "output_type": "execute_result",
          "data": {
            "text/plain": [
              "['Mumbai', 'Chennai', 'Jaipur', 'Chandigarh', 'Chandigarh']"
            ]
          },
          "metadata": {},
          "execution_count": 159
        }
      ],
      "source": [
        "# to convert to a list use list()\n",
        "capitals_list = list(capitals.values())\n",
        "capitals_list"
      ]
    },
    {
      "cell_type": "markdown",
      "metadata": {
        "id": "j_xCxoCj2v2k"
      },
      "source": [
        "**keys( )** function returns all the index or the keys to which contains the values that it was assigned to."
      ]
    },
    {
      "cell_type": "code",
      "execution_count": null,
      "metadata": {
        "id": "gan8M7bZ2v2k",
        "outputId": "627f8951-e286-4a5e-c50d-693cfbab1328"
      },
      "outputs": [
        {
          "name": "stdout",
          "output_type": "stream",
          "text": [
            "dict_keys(['Maharashtra', 'Tamil Nadu', 'Rajasthan', 'Punjab', 'Haryana'])\n",
            "<class 'dict_keys'>\n"
          ]
        }
      ],
      "source": [
        "# print the keys of the dictionary and also print the data type\n"
      ]
    },
    {
      "cell_type": "markdown",
      "metadata": {
        "id": "dujTqt4z2v2k"
      },
      "source": [
        "**items( )** is returns a list containing both the list but each element in the dictionary is inside a tuple."
      ]
    },
    {
      "cell_type": "code",
      "execution_count": 164,
      "metadata": {
        "id": "rP0btkPO2v2k",
        "outputId": "291ccd96-20d1-4380-d4af-e2076e5e8053",
        "colab": {
          "base_uri": "https://localhost:8080/"
        }
      },
      "outputs": [
        {
          "output_type": "execute_result",
          "data": {
            "text/plain": [
              "(('Maharashtra', 'Mumbai'),\n",
              " ('Tamil Nadu', 'Chennai'),\n",
              " ('Rajasthan', 'Jaipur'),\n",
              " ('Punjab', 'Chandigarh'),\n",
              " ('Haryana', 'Chandigarh'))"
            ]
          },
          "metadata": {},
          "execution_count": 164
        }
      ],
      "source": [
        "# print the items of the dictionary\n",
        "\n",
        "capitals.items()\n",
        "#convert to list of tuples\n",
        "tuple(list(capitals.items()))\n"
      ]
    },
    {
      "cell_type": "markdown",
      "source": [
        "**get()** returns a value for the given key. If key is not available then returns default value None."
      ],
      "metadata": {
        "id": "rwMIy7MnTFzv"
      }
    },
    {
      "cell_type": "code",
      "source": [
        "# get the value of Tamil Nadu\n",
        "capitals.get('Tamil Nadu')"
      ],
      "metadata": {
        "colab": {
          "base_uri": "https://localhost:8080/",
          "height": 35
        },
        "id": "UV6Ljz2NTFPw",
        "outputId": "e1523f39-1630-4097-c09b-93cc1f200589"
      },
      "execution_count": 165,
      "outputs": [
        {
          "output_type": "execute_result",
          "data": {
            "text/plain": [
              "'Chennai'"
            ],
            "application/vnd.google.colaboratory.intrinsic+json": {
              "type": "string"
            }
          },
          "metadata": {},
          "execution_count": 165
        }
      ]
    },
    {
      "cell_type": "code",
      "source": [
        "# get the value of Andhra Pradesh\n",
        "capitals.get('Andhra Pradesh','Amarvati')"
      ],
      "metadata": {
        "id": "8DuStqVIT2xY",
        "colab": {
          "base_uri": "https://localhost:8080/",
          "height": 35
        },
        "outputId": "192c3e03-4347-4f34-ba9e-97a82029cb33"
      },
      "execution_count": 167,
      "outputs": [
        {
          "output_type": "execute_result",
          "data": {
            "text/plain": [
              "'Amarvati'"
            ],
            "application/vnd.google.colaboratory.intrinsic+json": {
              "type": "string"
            }
          },
          "metadata": {},
          "execution_count": 167
        }
      ]
    },
    {
      "cell_type": "code",
      "source": [
        "capitals.get(\"Andhra Pradesh\", \"Amaravati\")"
      ],
      "metadata": {
        "colab": {
          "base_uri": "https://localhost:8080/",
          "height": 36
        },
        "id": "e6IMTZ_NTdAP",
        "outputId": "e39ac406-56f2-4914-8e2f-6d856517512e"
      },
      "execution_count": null,
      "outputs": [
        {
          "output_type": "execute_result",
          "data": {
            "text/plain": [
              "'Amaravati'"
            ],
            "application/vnd.google.colaboratory.intrinsic+json": {
              "type": "string"
            }
          },
          "metadata": {},
          "execution_count": 62
        }
      ]
    },
    {
      "cell_type": "markdown",
      "metadata": {
        "id": "rl3PXHp12v2l"
      },
      "source": [
        "# Sets  \n",
        "Sets are mainly used to eliminate repeated numbers in a sequence/list. It is also used to perform some standard set operations.\n",
        "\n",
        "Sets are declared as set() which will initialize a empty set. Also set([sequence]) can be executed to declare a set with elements"
      ]
    },
    {
      "cell_type": "code",
      "execution_count": 168,
      "metadata": {
        "id": "zWs2O-yq2v2m"
      },
      "outputs": [],
      "source": [
        "# create a set named set_1 and initialise it by set()\n",
        "set_1=set()"
      ]
    },
    {
      "cell_type": "code",
      "execution_count": 170,
      "metadata": {
        "id": "Mfr8taB02v2m",
        "outputId": "fa51b697-26e5-43d9-d26c-21c6b870af0b",
        "colab": {
          "base_uri": "https://localhost:8080/"
        }
      },
      "outputs": [
        {
          "output_type": "execute_result",
          "data": {
            "text/plain": [
              "{1, 2, 3, 4}"
            ]
          },
          "metadata": {},
          "execution_count": 170
        }
      ],
      "source": [
        "# create a set named set_1 and initialise it by set([1,2,2,3,3,4])\n",
        "set_1=set([1,2,2,3,3,4])\n",
        "set_1"
      ]
    },
    {
      "cell_type": "code",
      "source": [
        "# Different types of sets in Python\n",
        "# set of integers\n",
        "\n",
        "# set of mixed datatypes\n"
      ],
      "metadata": {
        "colab": {
          "base_uri": "https://localhost:8080/"
        },
        "id": "uBPlCklQg0uK",
        "outputId": "7481d547-1a57-4097-bc05-1a2b01450ed3"
      },
      "execution_count": null,
      "outputs": [
        {
          "output_type": "stream",
          "name": "stdout",
          "text": [
            "{1, 2, 3, 4}\n",
            "<class 'set'>\n",
            "{2.0, 'Relevel', (1, 2, 3)}\n",
            "<class 'set'>\n"
          ]
        }
      ]
    },
    {
      "cell_type": "markdown",
      "source": [
        "### Advantages of Python Sets\n",
        "\n",
        "Because sets cannot have multiple occurrences of the same element, it makes it highly useful to remove duplicate values from a list or tuple efficiently and perform everyday math operations like unions and intersections."
      ],
      "metadata": {
        "id": "K9HGXZJfI-j2"
      }
    },
    {
      "cell_type": "code",
      "source": [
        "## Remove the duplicates from list\n",
        "l = [0, 2, 4, 2, 3, 5, 4, 1, 5]\n",
        "type(l)"
      ],
      "metadata": {
        "colab": {
          "base_uri": "https://localhost:8080/"
        },
        "id": "T-Ec9VypJaka",
        "outputId": "9dbddae6-11ef-4e7d-8273-f31a9f3b6e5e"
      },
      "execution_count": 172,
      "outputs": [
        {
          "output_type": "execute_result",
          "data": {
            "text/plain": [
              "list"
            ]
          },
          "metadata": {},
          "execution_count": 172
        }
      ]
    },
    {
      "cell_type": "code",
      "source": [
        "# Find the set of above string\n",
        "name = \"Relevel\"\n"
      ],
      "metadata": {
        "colab": {
          "base_uri": "https://localhost:8080/"
        },
        "id": "nhxvLl3qI8aW",
        "outputId": "8e539655-6704-4c14-b7b1-23a364d8a3b8"
      },
      "execution_count": null,
      "outputs": [
        {
          "output_type": "stream",
          "name": "stdout",
          "text": [
            "{'e', 'l', 'v', 'R'}\n"
          ]
        }
      ]
    },
    {
      "cell_type": "code",
      "source": [
        "# Find the set of above string\n",
        "name = \"ReLevel\"\n"
      ],
      "metadata": {
        "colab": {
          "base_uri": "https://localhost:8080/"
        },
        "id": "03CZXsrdJJta",
        "outputId": "8b0c0051-22e8-4dfa-8f4d-1dfa945d4d88"
      },
      "execution_count": null,
      "outputs": [
        {
          "output_type": "stream",
          "name": "stdout",
          "text": [
            "{'l', 'e', 'v', 'L', 'R'}\n"
          ]
        }
      ]
    },
    {
      "cell_type": "markdown",
      "metadata": {
        "id": "8BwFrLTE2v2m"
      },
      "source": [
        "## Set Methods - Built in set functions"
      ]
    },
    {
      "cell_type": "markdown",
      "metadata": {
        "id": "AiS4h0aZ2v2m"
      },
      "source": [
        "| Method Name | Use | Explanation |\n",
        "| --- | --- | --- |\n",
        "| union | aset.union(otherset) | Returns a new set with all elements from both sets |\n",
        "| intersection\t| aset.intersection(otherset) |\tReturns a new set with only those elements common to both sets |\n",
        "|difference\t|aset.difference(otherset)\t|Returns a new set with all items from first set not in second|\n",
        "|issubset|\taset.issubset(otherset)|\t\tAsks whether all elements of one set are in the other|\n",
        "|add|\taset.add(item)|\tAdds item to the set|\n",
        "|remove|\taset.remove(item)|\tRemoves item from the set|\n",
        "|pop|\taset.pop()|\tRemoves an arbitrary element from the set|\n",
        "|clear|\taset.clear()|\tRemoves all elements from the set|"
      ]
    },
    {
      "cell_type": "code",
      "execution_count": 173,
      "metadata": {
        "id": "5mpV_lYr2v2n"
      },
      "outputs": [],
      "source": [
        "set_a = set([1,2,3])\n",
        "set_b = set([2,3,4,5])"
      ]
    },
    {
      "cell_type": "markdown",
      "metadata": {
        "id": "KTP0SMkm2v2n"
      },
      "source": [
        "- Union: $X \\cup Y$:  \n",
        "**union( )** function returns a set which contains all the elements of both the sets without repetition."
      ]
    },
    {
      "cell_type": "code",
      "execution_count": 174,
      "metadata": {
        "id": "ATegtvnG2v2n",
        "outputId": "f0605414-bff9-4581-ba04-624bd55ad3e7",
        "colab": {
          "base_uri": "https://localhost:8080/"
        }
      },
      "outputs": [
        {
          "output_type": "execute_result",
          "data": {
            "text/plain": [
              "{1, 2, 3, 4, 5}"
            ]
          },
          "metadata": {},
          "execution_count": 174
        }
      ],
      "source": [
        "# create a union of set_a and set_b\n",
        "set_a.union(set_b)"
      ]
    },
    {
      "cell_type": "code",
      "execution_count": null,
      "metadata": {
        "id": "wUHqThYY2v2n"
      },
      "outputs": [],
      "source": [
        "# Union\n",
        "X = {1, 2, 3}\n",
        "Y = {4, 5, 6}"
      ]
    },
    {
      "cell_type": "markdown",
      "metadata": {
        "id": "ECkKUqql2v2o"
      },
      "source": [
        "- Intersection: $X \\cap Y$:  \n",
        "**intersection( )** function outputs a set which contains all the elements that are in both sets."
      ]
    },
    {
      "cell_type": "code",
      "execution_count": 175,
      "metadata": {
        "id": "J7burCzo2v2o",
        "outputId": "0cc3f65b-67d0-4b52-a759-8b3e7dfd8771",
        "colab": {
          "base_uri": "https://localhost:8080/"
        }
      },
      "outputs": [
        {
          "output_type": "execute_result",
          "data": {
            "text/plain": [
              "{2, 3}"
            ]
          },
          "metadata": {},
          "execution_count": 175
        }
      ],
      "source": [
        "# create an intersection of set_a and set_b\n",
        "set_a.intersection(set_b)"
      ]
    },
    {
      "cell_type": "code",
      "execution_count": 176,
      "metadata": {
        "id": "_s9b_29g2v2o"
      },
      "outputs": [],
      "source": [
        "# create two sets X and Y and {1,2,3,4} and {3,4,5}\n",
        "X = {1, 2, 3, 4}\n",
        "Y = {3, 4, 5}"
      ]
    },
    {
      "cell_type": "markdown",
      "metadata": {
        "id": "K6I0WnRl2v2o"
      },
      "source": [
        "- Difference $X - Y$:  \n",
        "**difference( )** function ouptuts a set which contains elements that are in set1 and not in set2."
      ]
    },
    {
      "cell_type": "code",
      "execution_count": 177,
      "metadata": {
        "id": "5hS_BOEq2v2p",
        "outputId": "09737436-013b-488a-f094-161fa43cda79",
        "colab": {
          "base_uri": "https://localhost:8080/"
        }
      },
      "outputs": [
        {
          "output_type": "execute_result",
          "data": {
            "text/plain": [
              "{1, 2}"
            ]
          },
          "metadata": {},
          "execution_count": 177
        }
      ],
      "source": [
        "# find the difference b/w those sets\n",
        "X.difference(Y)"
      ]
    },
    {
      "cell_type": "markdown",
      "metadata": {
        "id": "zH8QpboB2v2p"
      },
      "source": [
        "**symmetric_difference( )** function ouputs a function which contains elements that are in one of the sets."
      ]
    },
    {
      "cell_type": "code",
      "execution_count": 178,
      "metadata": {
        "id": "metTL0BK2v2p",
        "outputId": "06fd4246-8954-4f95-e53c-2407312bb936",
        "colab": {
          "base_uri": "https://localhost:8080/"
        }
      },
      "outputs": [
        {
          "output_type": "execute_result",
          "data": {
            "text/plain": [
              "{1, 2, 5}"
            ]
          },
          "metadata": {},
          "execution_count": 178
        }
      ],
      "source": [
        "# Get the symmetric_difference of X and Y\n",
        "X.symmetric_difference(Y)"
      ]
    },
    {
      "cell_type": "markdown",
      "metadata": {
        "id": "VLT2XIhY2v2p"
      },
      "source": [
        "## List to Set, Set to Tuple, and Tuple to List and Vice-Versa Conversion"
      ]
    },
    {
      "cell_type": "code",
      "execution_count": 180,
      "metadata": {
        "id": "xRVkeVKA2v2q",
        "outputId": "fd97f384-ccb7-46f1-c1f1-01b1293764d9",
        "colab": {
          "base_uri": "https://localhost:8080/"
        }
      },
      "outputs": [
        {
          "output_type": "execute_result",
          "data": {
            "text/plain": [
              "{'A', 'B', 'C', 'D'}"
            ]
          },
          "metadata": {},
          "execution_count": 180
        }
      ],
      "source": [
        "# List to Set\n",
        "\n",
        "# Initialise list with duplicates like ['A','B','A','C','D','C','C','B']\n",
        "X = ['A','B','A','C','D','C','C','B']\n",
        "a=set(X)\n",
        "a"
      ]
    },
    {
      "cell_type": "code",
      "execution_count": 181,
      "metadata": {
        "id": "Ko7MhmxZ2v2q",
        "outputId": "5f2f988b-d880-4006-afdd-45fd6184586a",
        "colab": {
          "base_uri": "https://localhost:8080/"
        }
      },
      "outputs": [
        {
          "output_type": "execute_result",
          "data": {
            "text/plain": [
              "['B', 'C', 'A', 'D']"
            ]
          },
          "metadata": {},
          "execution_count": 181
        }
      ],
      "source": [
        "# Set to List\n",
        "b=list(a)\n",
        "#Convert it to a list by wrapping it back to a list\n"
      ]
    },
    {
      "cell_type": "code",
      "execution_count": 184,
      "metadata": {
        "id": "OFlXLd362v2q",
        "colab": {
          "base_uri": "https://localhost:8080/"
        },
        "outputId": "889eea59-bc7c-4852-f2fc-650b05c089e5"
      },
      "outputs": [
        {
          "output_type": "execute_result",
          "data": {
            "text/plain": [
              "([1, 2, 3, 10, [1, True, 1.2, 'a'], [1, True, 1.2, 'a'], 5, 5],\n",
              " [1, True, 1.2, 'a'])"
            ]
          },
          "metadata": {},
          "execution_count": 184
        }
      ],
      "source": [
        "# List to Tuple\n",
        "c=tuple(b)\n",
        "c\n",
        "\n"
      ]
    },
    {
      "cell_type": "code",
      "source": [
        "# Tuple to List\n",
        "list(c)"
      ],
      "metadata": {
        "colab": {
          "base_uri": "https://localhost:8080/"
        },
        "id": "o13R9Gq1M6Dc",
        "outputId": "45a9d521-6628-478a-84ca-ac688273f433"
      },
      "execution_count": 186,
      "outputs": [
        {
          "output_type": "execute_result",
          "data": {
            "text/plain": [
              "[[1, 2, 3, 10, [1, True, 1.2, 'a'], [1, True, 1.2, 'a'], 5, 5],\n",
              " [1, True, 1.2, 'a']]"
            ]
          },
          "metadata": {},
          "execution_count": 186
        }
      ]
    },
    {
      "cell_type": "code",
      "source": [
        "# Set to Tuple\n",
        "\n",
        "s_1 = {1, 2, 3, 4}\n",
        "t_1 = s_1\n",
        "\n",
        "print(s_1, type(s_1))\n",
        "print(t_1, type(t_1))"
      ],
      "metadata": {
        "colab": {
          "base_uri": "https://localhost:8080/"
        },
        "id": "J362fDSnNRJH",
        "outputId": "162d4f13-c623-4d95-f013-23da04c4f549"
      },
      "execution_count": 187,
      "outputs": [
        {
          "output_type": "stream",
          "name": "stdout",
          "text": [
            "{1, 2, 3, 4} <class 'set'>\n",
            "{1, 2, 3, 4} <class 'set'>\n"
          ]
        }
      ]
    },
    {
      "cell_type": "code",
      "source": [
        "# Tuple to Set\n",
        "\n",
        "t_1 = (1, 2, 3, 4)\n",
        "s_1 = t_1\n",
        "\n",
        "print(t_1, type(t_1))\n",
        "print(s_1, type(s_1))"
      ],
      "metadata": {
        "colab": {
          "base_uri": "https://localhost:8080/"
        },
        "id": "MkQROEjBNpxf",
        "outputId": "545212ef-7a32-4d5f-be30-1387e6e6f2c0"
      },
      "execution_count": null,
      "outputs": [
        {
          "output_type": "stream",
          "name": "stdout",
          "text": [
            "(1, 2, 3, 4) <class 'tuple'>\n",
            "{1, 2, 3, 4} <class 'set'>\n"
          ]
        }
      ]
    },
    {
      "cell_type": "code",
      "source": [],
      "metadata": {
        "id": "0_goXoqdN2A8"
      },
      "execution_count": 186,
      "outputs": []
    }
  ],
  "metadata": {
    "kernelspec": {
      "display_name": "Python 3",
      "language": "python",
      "name": "python3"
    },
    "language_info": {
      "codemirror_mode": {
        "name": "ipython",
        "version": 3
      },
      "file_extension": ".py",
      "mimetype": "text/x-python",
      "name": "python",
      "nbconvert_exporter": "python",
      "pygments_lexer": "ipython3",
      "version": "3.8.5"
    },
    "colab": {
      "provenance": [],
      "include_colab_link": true
    }
  },
  "nbformat": 4,
  "nbformat_minor": 0
}