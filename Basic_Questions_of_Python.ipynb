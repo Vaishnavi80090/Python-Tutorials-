{
  "nbformat": 4,
  "nbformat_minor": 0,
  "metadata": {
    "colab": {
      "provenance": [],
      "include_colab_link": true
    },
    "kernelspec": {
      "name": "python3",
      "display_name": "Python 3"
    },
    "language_info": {
      "name": "python"
    }
  },
  "cells": [
    {
      "cell_type": "markdown",
      "metadata": {
        "id": "view-in-github",
        "colab_type": "text"
      },
      "source": [
        "<a href=\"https://colab.research.google.com/github/Vaishnavi80090/Python-Tutorials-/blob/main/Basic_Questions_of_Python.ipynb\" target=\"_parent\"><img src=\"https://colab.research.google.com/assets/colab-badge.svg\" alt=\"Open In Colab\"/></a>"
      ]
    },
    {
      "cell_type": "markdown",
      "source": [
        "## Text cells\n",
        "This is a **text cell**. You can **double-click** to edit this cell. Text cells\n",
        "use markdown syntax. To learn more, see our [markdown\n",
        "guide](/notebooks/markdown_guide.ipynb).\n",
        "\n",
        "You can also add math to text cells using [LaTeX](http://www.latex-project.org/)\n",
        "to be rendered by [MathJax](https://www.mathjax.org). Just place the statement\n",
        "within a pair of **\\$** signs. For example `$\\sqrt{3x-1}+(1+x)^2$` becomes\n",
        "$\\sqrt{3x-1}+(1+x)^2.$"
      ],
      "metadata": {
        "id": "ZErsTh6pqEvj"
      }
    },
    {
      "cell_type": "markdown",
      "source": [
        "# Comments"
      ],
      "metadata": {
        "id": "Bwy_clUSqXn8"
      }
    },
    {
      "cell_type": "markdown",
      "source": [
        "## Single Line Comments"
      ],
      "metadata": {
        "id": "jobRfOVVi8Xg"
      }
    },
    {
      "cell_type": "code",
      "execution_count": 28,
      "metadata": {
        "id": "bZljDFbHX3pu",
        "colab": {
          "base_uri": "https://localhost:8080/",
          "height": 35
        },
        "outputId": "cb6187cd-db93-4b51-d9d5-4c778be85eee"
      },
      "outputs": [
        {
          "output_type": "execute_result",
          "data": {
            "text/plain": [
              "'i love python'"
            ],
            "application/vnd.google.colaboratory.intrinsic+json": {
              "type": "string"
            }
          },
          "metadata": {},
          "execution_count": 28
        }
      ],
      "source": [
        "# Single line comment with #\n",
        "a=\"i love python\"\n",
        "a\n"
      ]
    },
    {
      "cell_type": "markdown",
      "source": [
        "## Multi-line string as comment"
      ],
      "metadata": {
        "id": "UYkvAhCRjFLO"
      }
    },
    {
      "cell_type": "code",
      "source": [
        "# Multiline comment with #\n"
      ],
      "metadata": {
        "id": "bQuOojcbfd76"
      },
      "execution_count": 29,
      "outputs": []
    },
    {
      "cell_type": "code",
      "source": [
        "# Multiline comment with \"\"\""
      ],
      "metadata": {
        "id": "FeCxk-hB854S"
      },
      "execution_count": 30,
      "outputs": []
    },
    {
      "cell_type": "code",
      "source": [
        "# Multiline comment with '''\n",
        "a=\"\"\" i love \n",
        "   python\"\"\"\n",
        "print(a)   "
      ],
      "metadata": {
        "id": "8ihPB5TD9FSf",
        "colab": {
          "base_uri": "https://localhost:8080/"
        },
        "outputId": "70070a32-6fc5-4633-adc3-60d1748ec0b3"
      },
      "execution_count": 31,
      "outputs": [
        {
          "output_type": "stream",
          "name": "stdout",
          "text": [
            " i love \n",
            "   python\n"
          ]
        }
      ]
    },
    {
      "cell_type": "markdown",
      "source": [
        "# Types of Errors"
      ],
      "metadata": {
        "id": "LFCbJ-5tqbRb"
      }
    },
    {
      "cell_type": "markdown",
      "source": [
        "## Syntax Errors"
      ],
      "metadata": {
        "id": "71opwoyZqh_7"
      }
    },
    {
      "cell_type": "code",
      "source": [
        "print(\"Hello, World)"
      ],
      "metadata": {
        "id": "Ksx2UiSRmJeR"
      },
      "execution_count": null,
      "outputs": []
    },
    {
      "cell_type": "markdown",
      "source": [
        "There are two terms in this message that may be unfamiliar:\n",
        "1. A string literal is text enclosed in quotation marks. \"Hello,\n",
        "World\" is a string literal.\n",
        "2. EOL stands for end of line."
      ],
      "metadata": {
        "id": "xpAgJ0P-qqSb"
      }
    },
    {
      "cell_type": "markdown",
      "source": [
        "## Runtime Errors\n"
      ],
      "metadata": {
        "id": "r-9Yyx-_qtmq"
      }
    },
    {
      "cell_type": "code",
      "source": [
        "print(Hello, World)"
      ],
      "metadata": {
        "id": "srLaWD7Fqalr"
      },
      "execution_count": null,
      "outputs": []
    },
    {
      "cell_type": "markdown",
      "source": [
        "Lines of text called a traceback. <br>\n",
        "<br>\n",
        "\n",
        "Tracebacks are best read from the bottom up:\n",
        "* The last line of the traceback tells you the name of the error and\n",
        "the error message. In this case, a NameError occurred because the\n",
        "name Hello is not defined anywhere.\n",
        "* The second to last line shows you the code that produced the error. This information is more helpful for\n",
        "larger files.\n",
        "* The third to last line tells you the name of the file and the line number so you can go to the exact spot in your code where the error\n",
        "occurred. <br>"
      ],
      "metadata": {
        "id": "I3ulvF9wq7-T"
      }
    },
    {
      "cell_type": "code",
      "source": [
        "# Python code runs line by line so that if there's an error in line, the code before that will run as is\n",
        "print(1)\n",
        "print(2)\n",
        "print(aa) "
      ],
      "metadata": {
        "id": "biW3ICLsxrRT"
      },
      "execution_count": null,
      "outputs": []
    },
    {
      "cell_type": "markdown",
      "source": [
        "# Python keywords\n",
        "\n",
        "Keywords are the reserved words in Python.\n",
        "\n",
        "We cannot use a keyword as a variable name, function name or any other identifier. They are used to define the syntax and structure of the Python language."
      ],
      "metadata": {
        "id": "AARHag0vbFuI"
      }
    },
    {
      "cell_type": "code",
      "source": [
        "help(\"keywords\") ## Except True, False and None rest all are in lower case"
      ],
      "metadata": {
        "id": "uRTA7g0zqxPf"
      },
      "execution_count": null,
      "outputs": []
    },
    {
      "cell_type": "code",
      "source": [
        "help(\"keywords\")"
      ],
      "metadata": {
        "colab": {
          "base_uri": "https://localhost:8080/"
        },
        "id": "2nUk2USE9qxh",
        "outputId": "e02ba392-5f44-40fb-f984-9aaf4cd9b89d"
      },
      "execution_count": 6,
      "outputs": [
        {
          "output_type": "stream",
          "name": "stdout",
          "text": [
            "\n",
            "Here is a list of the Python keywords.  Enter any keyword to get more help.\n",
            "\n",
            "False               break               for                 not\n",
            "None                class               from                or\n",
            "True                continue            global              pass\n",
            "__peg_parser__      def                 if                  raise\n",
            "and                 del                 import              return\n",
            "as                  elif                in                  try\n",
            "assert              else                is                  while\n",
            "async               except              lambda              with\n",
            "await               finally             nonlocal            yield\n",
            "\n"
          ]
        }
      ]
    },
    {
      "cell_type": "markdown",
      "source": [
        "## Variables and Identifier\n",
        "\n",
        "A variable can have a short name (like a and b) or a more descriptive name (age, weight, gross_sales).\n",
        "\n",
        "Rules for Python variables:\n",
        "\n",
        "* A variable name must start with a letter or the underscore character\n",
        "* A variable name cannot start with a number\n",
        "* A variable name can only contain alpha-numeric characters and underscores (A-z, 0-9, and _ )\n",
        "* Variable names are case-sensitive (age, Age and AGE are three different variables)"
      ],
      "metadata": {
        "id": "qwZZWz2d_lDh"
      }
    },
    {
      "cell_type": "code",
      "source": [
        "# Legal variable names\n",
        "lang=\"python\"\n",
        "lang"
      ],
      "metadata": {
        "id": "RU8GI8Usb2B_",
        "colab": {
          "base_uri": "https://localhost:8080/",
          "height": 35
        },
        "outputId": "bbcd9545-e32e-4fb9-e8c4-c1adba98af87"
      },
      "execution_count": 7,
      "outputs": [
        {
          "output_type": "execute_result",
          "data": {
            "text/plain": [
              "'python'"
            ],
            "application/vnd.google.colaboratory.intrinsic+json": {
              "type": "string"
            }
          },
          "metadata": {},
          "execution_count": 7
        }
      ]
    },
    {
      "cell_type": "code",
      "source": [
        "# Legal variable names with different casing\n"
      ],
      "metadata": {
        "id": "94ntAw4JXtqz"
      },
      "execution_count": null,
      "outputs": []
    },
    {
      "cell_type": "code",
      "source": [
        "#Illegal variable names:\n"
      ],
      "metadata": {
        "id": "AsVMORAYXBNV"
      },
      "execution_count": null,
      "outputs": []
    },
    {
      "cell_type": "code",
      "source": [
        "break = 5"
      ],
      "metadata": {
        "id": "b4pRzQP6YKFr",
        "colab": {
          "base_uri": "https://localhost:8080/",
          "height": 130
        },
        "outputId": "48657fe6-658d-47d8-c487-97ea7e949f88"
      },
      "execution_count": 8,
      "outputs": [
        {
          "output_type": "error",
          "ename": "SyntaxError",
          "evalue": "ignored",
          "traceback": [
            "\u001b[0;36m  File \u001b[0;32m\"<ipython-input-8-00bd2e73219f>\"\u001b[0;36m, line \u001b[0;32m1\u001b[0m\n\u001b[0;31m    break = 5\u001b[0m\n\u001b[0m          ^\u001b[0m\n\u001b[0;31mSyntaxError\u001b[0m\u001b[0;31m:\u001b[0m invalid syntax\n"
          ]
        }
      ]
    },
    {
      "cell_type": "code",
      "source": [
        "return = \"value\""
      ],
      "metadata": {
        "id": "4iGP09UKYyS8",
        "colab": {
          "base_uri": "https://localhost:8080/",
          "height": 130
        },
        "outputId": "9bb101ba-df06-47bb-886e-63cec11af8a5"
      },
      "execution_count": 9,
      "outputs": [
        {
          "output_type": "error",
          "ename": "SyntaxError",
          "evalue": "ignored",
          "traceback": [
            "\u001b[0;36m  File \u001b[0;32m\"<ipython-input-9-ee1f29a6c9db>\"\u001b[0;36m, line \u001b[0;32m1\u001b[0m\n\u001b[0;31m    return = \"value\"\u001b[0m\n\u001b[0m           ^\u001b[0m\n\u001b[0;31mSyntaxError\u001b[0m\u001b[0;31m:\u001b[0m invalid syntax\n"
          ]
        }
      ]
    },
    {
      "cell_type": "code",
      "source": [
        "# input the favourite alphabet from user using input\n",
        "name=input(\"name of the user\")\n",
        "\n"
      ],
      "metadata": {
        "id": "1wWBLfyhCnU6",
        "colab": {
          "base_uri": "https://localhost:8080/"
        },
        "outputId": "8d8dff60-abf1-4c52-cc88-faaeb327ad08"
      },
      "execution_count": 11,
      "outputs": [
        {
          "name": "stdout",
          "output_type": "stream",
          "text": [
            "name of the uservaishnavi gupta\n"
          ]
        }
      ]
    },
    {
      "cell_type": "code",
      "source": [
        "# Let's add string to the input taken from user using input\n",
        "player_name=input(\"name of the player\")\n",
        "age=int(input(\"age of the player\"))\n",
        "score=int(input(\"score of the player\"))\n",
        "print(\"name of the player is  \",player_name)\n",
        "print(\"age of the player  \",age)\n",
        "print(\"score of the player\",score)\n"
      ],
      "metadata": {
        "id": "dzbO0yKQDohk",
        "colab": {
          "base_uri": "https://localhost:8080/"
        },
        "outputId": "e4f4bbc7-251c-435a-9ff5-64daff615f16"
      },
      "execution_count": 13,
      "outputs": [
        {
          "output_type": "stream",
          "name": "stdout",
          "text": [
            "name of the playervaishnavi gupta\n",
            "age of the player23\n",
            "score of the player210\n",
            "name of the player is   vaishnavi gupta\n",
            "age of the player   23\n",
            "score of the player 210\n"
          ]
        }
      ]
    },
    {
      "cell_type": "markdown",
      "source": [
        "# Statement"
      ],
      "metadata": {
        "id": "MJ986hLi5qE7"
      }
    },
    {
      "cell_type": "code",
      "source": [
        "# statement 1\n",
        "                          ## Prints \"Hello, Relevel students\"\n",
        "\n",
        "# statement 2\n",
        "                          ## Assigns the number 30 to variable X\n",
        "\n",
        "# statement 3\n",
        "                          ## Prints the value of variable X"
      ],
      "metadata": {
        "id": "AJjuCAuPvLYl"
      },
      "execution_count": 14,
      "outputs": []
    },
    {
      "cell_type": "markdown",
      "source": [
        "# DataTypes"
      ],
      "metadata": {
        "id": "nXMRUQQTErPL"
      }
    },
    {
      "cell_type": "code",
      "source": [
        "# print some of the variables of different datatypes\n",
        "\n",
        "\n",
        "\n",
        "## With type function the type of the datatype can be found out \n",
        "a=1\n",
        "type(a)"
      ],
      "metadata": {
        "id": "VojC-X2H5nsb",
        "colab": {
          "base_uri": "https://localhost:8080/"
        },
        "outputId": "0ee34193-324b-42b2-91ca-f04b623ddaaf"
      },
      "execution_count": 16,
      "outputs": [
        {
          "output_type": "execute_result",
          "data": {
            "text/plain": [
              "int"
            ]
          },
          "metadata": {},
          "execution_count": 16
        }
      ]
    },
    {
      "cell_type": "code",
      "source": [
        "b=\"l\"\n",
        "type(b)"
      ],
      "metadata": {
        "colab": {
          "base_uri": "https://localhost:8080/"
        },
        "id": "i6TxyplB_I4p",
        "outputId": "f58e3a0c-2453-46d6-d901-93fedc83e76e"
      },
      "execution_count": 17,
      "outputs": [
        {
          "output_type": "execute_result",
          "data": {
            "text/plain": [
              "str"
            ]
          },
          "metadata": {},
          "execution_count": 17
        }
      ]
    },
    {
      "cell_type": "code",
      "source": [
        "c=True\n",
        "type(c)"
      ],
      "metadata": {
        "colab": {
          "base_uri": "https://localhost:8080/"
        },
        "id": "MwYifNzs_MU5",
        "outputId": "e3f53e37-4bb0-4ea4-ff4b-9d0bb800049b"
      },
      "execution_count": 18,
      "outputs": [
        {
          "output_type": "execute_result",
          "data": {
            "text/plain": [
              "bool"
            ]
          },
          "metadata": {},
          "execution_count": 18
        }
      ]
    },
    {
      "cell_type": "code",
      "source": [
        "d=1.3\n",
        "type(d)"
      ],
      "metadata": {
        "colab": {
          "base_uri": "https://localhost:8080/"
        },
        "id": "vDhOZG83_UZ9",
        "outputId": "9edff6af-a10c-41b5-d1cb-d6bd6d3e2cf6"
      },
      "execution_count": 19,
      "outputs": [
        {
          "output_type": "execute_result",
          "data": {
            "text/plain": [
              "float"
            ]
          },
          "metadata": {},
          "execution_count": 19
        }
      ]
    },
    {
      "cell_type": "code",
      "source": [
        "k=2+3j\n",
        "type(k)"
      ],
      "metadata": {
        "colab": {
          "base_uri": "https://localhost:8080/"
        },
        "id": "M9GzjpjK_ZZ_",
        "outputId": "e4eb34d1-9eff-405f-ddff-e10b96f8ca4e"
      },
      "execution_count": 20,
      "outputs": [
        {
          "output_type": "execute_result",
          "data": {
            "text/plain": [
              "complex"
            ]
          },
          "metadata": {},
          "execution_count": 20
        }
      ]
    },
    {
      "cell_type": "markdown",
      "source": [
        "<h2 style=\"color:Blue\"> Arithmetic Operations"
      ],
      "metadata": {
        "id": "uJIbus7Y_3UW"
      }
    },
    {
      "cell_type": "code",
      "source": [
        "# Take two number and perform arithmetic operations on those number\n"
      ],
      "metadata": {
        "id": "RVrwI5deHb6I"
      },
      "execution_count": null,
      "outputs": []
    },
    {
      "cell_type": "markdown",
      "source": [
        "## Mathematical  operators follow a precedence rule called PEMDAS -<BR>\n",
        "P = parenthesis <br>\n",
        "E = exponents <br>\n",
        "M = multiplication <br>\n",
        "D = division <br>\n",
        "A = addition <br>\n",
        "S = subtraction <br>"
      ],
      "metadata": {
        "id": "Myd3oe-DH8M-"
      }
    },
    {
      "cell_type": "code",
      "source": [
        "print()"
      ],
      "metadata": {
        "id": "lnehEzD2Hcll"
      },
      "execution_count": null,
      "outputs": []
    },
    {
      "cell_type": "code",
      "source": [
        "a=4\n",
        "b=3"
      ],
      "metadata": {
        "id": "cs4cxdPP_fx7"
      },
      "execution_count": 21,
      "outputs": []
    },
    {
      "cell_type": "code",
      "source": [
        "c=a+b\n",
        "c"
      ],
      "metadata": {
        "colab": {
          "base_uri": "https://localhost:8080/"
        },
        "id": "ueoLmosY_kVD",
        "outputId": "2fca0757-3d91-497d-e15d-1a60442a0dc7"
      },
      "execution_count": 22,
      "outputs": [
        {
          "output_type": "execute_result",
          "data": {
            "text/plain": [
              "7"
            ]
          },
          "metadata": {},
          "execution_count": 22
        }
      ]
    },
    {
      "cell_type": "code",
      "source": [
        "d=a-b \n",
        "d"
      ],
      "metadata": {
        "colab": {
          "base_uri": "https://localhost:8080/"
        },
        "id": "eR3-FWFH_pCB",
        "outputId": "787fb0dc-a6cf-4287-9d24-260784603c0a"
      },
      "execution_count": 23,
      "outputs": [
        {
          "output_type": "execute_result",
          "data": {
            "text/plain": [
              "1"
            ]
          },
          "metadata": {},
          "execution_count": 23
        }
      ]
    },
    {
      "cell_type": "code",
      "source": [
        "e=a/b \n",
        "e\n"
      ],
      "metadata": {
        "colab": {
          "base_uri": "https://localhost:8080/"
        },
        "id": "dPzIKq9o_t1j",
        "outputId": "323d37a5-0873-4538-804e-73201ada00bb"
      },
      "execution_count": 24,
      "outputs": [
        {
          "output_type": "execute_result",
          "data": {
            "text/plain": [
              "1.3333333333333333"
            ]
          },
          "metadata": {},
          "execution_count": 24
        }
      ]
    },
    {
      "cell_type": "code",
      "source": [
        "a//b"
      ],
      "metadata": {
        "colab": {
          "base_uri": "https://localhost:8080/"
        },
        "id": "m8Y_TOfN_zIA",
        "outputId": "32f6b5a0-bbe6-4250-8b1d-366ed334b76c"
      },
      "execution_count": 25,
      "outputs": [
        {
          "output_type": "execute_result",
          "data": {
            "text/plain": [
              "1"
            ]
          },
          "metadata": {},
          "execution_count": 25
        }
      ]
    },
    {
      "cell_type": "code",
      "source": [
        "a%b"
      ],
      "metadata": {
        "colab": {
          "base_uri": "https://localhost:8080/"
        },
        "id": "iihfHslT_1VH",
        "outputId": "44449d99-e6c3-4c7c-a030-fe4821fbbaee"
      },
      "execution_count": 26,
      "outputs": [
        {
          "output_type": "execute_result",
          "data": {
            "text/plain": [
              "1"
            ]
          },
          "metadata": {},
          "execution_count": 26
        }
      ]
    },
    {
      "cell_type": "code",
      "source": [
        "a**b"
      ],
      "metadata": {
        "colab": {
          "base_uri": "https://localhost:8080/"
        },
        "id": "DUx9Bi-R_4FI",
        "outputId": "eaa757a3-23db-4400-f0ef-95dd0b752791"
      },
      "execution_count": 27,
      "outputs": [
        {
          "output_type": "execute_result",
          "data": {
            "text/plain": [
              "64"
            ]
          },
          "metadata": {},
          "execution_count": 27
        }
      ]
    },
    {
      "cell_type": "markdown",
      "source": [
        "<h2 style=\"color:Blue\"> String Operations\n",
        "\n",
        "String is a collection of characters. The string data is an immutable type which means it cannot be modified."
      ],
      "metadata": {
        "id": "Cuugy03iTEEl"
      }
    },
    {
      "cell_type": "code",
      "source": [
        "# String is initialised by single quotes '' or double quotes \"\"\n"
      ],
      "metadata": {
        "id": "6IiPXwMjTXma"
      },
      "execution_count": null,
      "outputs": []
    },
    {
      "cell_type": "code",
      "source": [
        "# When you write the string in single quotes and if you have a single quote in your string, it might give your error\n"
      ],
      "metadata": {
        "id": "r0PFEXqpTnzV"
      },
      "execution_count": null,
      "outputs": []
    },
    {
      "cell_type": "code",
      "source": [
        "#Now to solve this we can use an escape character like \n"
      ],
      "metadata": {
        "id": "RP3Lb1cdUKN0"
      },
      "execution_count": null,
      "outputs": []
    },
    {
      "cell_type": "code",
      "source": [
        "# Or we can use double quotes\n"
      ],
      "metadata": {
        "id": "ffQ3DsN_UMxb"
      },
      "execution_count": null,
      "outputs": []
    },
    {
      "cell_type": "code",
      "source": [
        "#Now that '\\' escape character which we saw earlier can also be used for other stuff like adding a new line\n",
        "a=\"\"\" i love \\n python\"\"\"\n",
        "print(a)\n"
      ],
      "metadata": {
        "id": "R2dDei9gUQqs",
        "colab": {
          "base_uri": "https://localhost:8080/"
        },
        "outputId": "cb7aec23-e02e-4f39-dfb3-e3c6d041ca75"
      },
      "execution_count": 33,
      "outputs": [
        {
          "output_type": "stream",
          "name": "stdout",
          "text": [
            " i love \n",
            " python\n"
          ]
        }
      ]
    },
    {
      "cell_type": "markdown",
      "source": [
        "#### String Concatenation\n",
        "\n",
        "Now apart adding new lines to a string we can also add another to a pre-existing string, let's see how -"
      ],
      "metadata": {
        "id": "D7f8R7KYWJFU"
      }
    },
    {
      "cell_type": "code",
      "source": [
        "#Let's try building a system that could ask for your dinner order\n"
      ],
      "metadata": {
        "id": "KysHV5cPWNGf"
      },
      "execution_count": null,
      "outputs": []
    },
    {
      "cell_type": "markdown",
      "metadata": {
        "id": "1omYsujJhQgH"
      },
      "source": [
        "Congrats on building a simple app using input and string functions. Let's take a step ahead and learn more about string manipulation\n"
      ]
    },
    {
      "cell_type": "markdown",
      "metadata": {
        "id": "2Y8x7ktkjZpA"
      },
      "source": [
        "### String Manipulation"
      ]
    },
    {
      "cell_type": "markdown",
      "metadata": {
        "id": "cECFQMISH4xp"
      },
      "source": [
        "#### Indexing In Strings <br>\n",
        "- Forward indexing starts with 0\n",
        "- Reverse indexing starts with the last character as -1 in a python string\n",
        "- Strings are immutable which, means they cannot be changed once created.\n",
        "- Strings can be modified by slicing a part of it and concatenating with another\n"
      ]
    },
    {
      "cell_type": "code",
      "execution_count": 34,
      "metadata": {
        "id": "snVEmNw2H4xq",
        "scrolled": true,
        "colab": {
          "base_uri": "https://localhost:8080/"
        },
        "outputId": "514ea3ba-1052-4564-95b2-38aed5b9c3c6"
      },
      "outputs": [
        {
          "output_type": "execute_result",
          "data": {
            "text/plain": [
              "6"
            ]
          },
          "metadata": {},
          "execution_count": 34
        }
      ],
      "source": [
        "# Len() function\n",
        "len(lang)\n"
      ]
    },
    {
      "cell_type": "code",
      "execution_count": 35,
      "metadata": {
        "id": "lJ91suAStu67",
        "colab": {
          "base_uri": "https://localhost:8080/",
          "height": 35
        },
        "outputId": "744e7939-a91e-4fec-c73d-aa53d9352e83"
      },
      "outputs": [
        {
          "output_type": "execute_result",
          "data": {
            "text/plain": [
              "'p'"
            ],
            "application/vnd.google.colaboratory.intrinsic+json": {
              "type": "string"
            }
          },
          "metadata": {},
          "execution_count": 35
        }
      ],
      "source": [
        "#Accessing first character\n",
        "lang[0]"
      ]
    },
    {
      "cell_type": "code",
      "execution_count": null,
      "metadata": {
        "id": "b2GSWBq5H4xu"
      },
      "outputs": [],
      "source": [
        "#Accessing first character\n"
      ]
    },
    {
      "cell_type": "code",
      "execution_count": 36,
      "metadata": {
        "id": "62uh51-GH4xx",
        "colab": {
          "base_uri": "https://localhost:8080/",
          "height": 35
        },
        "outputId": "a77b381f-2950-44b4-d327-9d9b9e53852c"
      },
      "outputs": [
        {
          "output_type": "execute_result",
          "data": {
            "text/plain": [
              "'n'"
            ],
            "application/vnd.google.colaboratory.intrinsic+json": {
              "type": "string"
            }
          },
          "metadata": {},
          "execution_count": 36
        }
      ],
      "source": [
        "#Accessing last character using negative indexing\n",
        "lang[-1]"
      ]
    },
    {
      "cell_type": "code",
      "execution_count": 37,
      "metadata": {
        "id": "AOhFNW4lH4x6",
        "colab": {
          "base_uri": "https://localhost:8080/",
          "height": 183
        },
        "outputId": "68ee50e6-9d09-46c9-b991-66fa0712c23c"
      },
      "outputs": [
        {
          "output_type": "error",
          "ename": "TypeError",
          "evalue": "ignored",
          "traceback": [
            "\u001b[0;31m---------------------------------------------------------------------------\u001b[0m",
            "\u001b[0;31mTypeError\u001b[0m                                 Traceback (most recent call last)",
            "\u001b[0;32m<ipython-input-37-f562b4ffcf95>\u001b[0m in \u001b[0;36m<cell line: 2>\u001b[0;34m()\u001b[0m\n\u001b[1;32m      1\u001b[0m \u001b[0;31m# Trying to change the character at index 2\u001b[0m\u001b[0;34m\u001b[0m\u001b[0;34m\u001b[0m\u001b[0m\n\u001b[0;32m----> 2\u001b[0;31m \u001b[0mlang\u001b[0m\u001b[0;34m[\u001b[0m\u001b[0;36m0\u001b[0m\u001b[0;34m]\u001b[0m\u001b[0;34m=\u001b[0m\u001b[0;34m\"o\"\u001b[0m\u001b[0;34m\u001b[0m\u001b[0;34m\u001b[0m\u001b[0m\n\u001b[0m",
            "\u001b[0;31mTypeError\u001b[0m: 'str' object does not support item assignment"
          ]
        }
      ],
      "source": [
        "# Trying to change the character at index 2\n",
        "lang[0]=\"o\""
      ]
    },
    {
      "cell_type": "markdown",
      "metadata": {
        "id": "5pdjo9uaH4yH"
      },
      "source": [
        "#### Slicing In Strings\n",
        "- string[start:end:step]\n",
        "end step is not included in the output"
      ]
    },
    {
      "cell_type": "code",
      "execution_count": 38,
      "metadata": {
        "id": "CRt_5l_BH4yI",
        "colab": {
          "base_uri": "https://localhost:8080/",
          "height": 35
        },
        "outputId": "f3faa8c6-e1ee-4e62-8f04-68837a12fa74"
      },
      "outputs": [
        {
          "output_type": "execute_result",
          "data": {
            "text/plain": [
              "'i love python'"
            ],
            "application/vnd.google.colaboratory.intrinsic+json": {
              "type": "string"
            }
          },
          "metadata": {},
          "execution_count": 38
        }
      ],
      "source": [
        "# slicing by specifying start and end index\n",
        "\n",
        "\n",
        "# let's print \"I love\" \n",
        "a=\" i love python programming\"\n",
        "a[-25:-12]\n",
        "\n",
        "\n"
      ]
    },
    {
      "cell_type": "code",
      "source": [
        "string_var = \"I love Python Programming\"\n",
        "sliced_var = string_var[-10:-2]\n",
        "print(sliced_var)\n",
        "\n",
        "# let's print \"I love\" \n"
      ],
      "metadata": {
        "id": "2lb1y1CNb55d"
      },
      "execution_count": null,
      "outputs": []
    },
    {
      "cell_type": "code",
      "execution_count": null,
      "metadata": {
        "id": "K2TcXGaXH4yN"
      },
      "outputs": [],
      "source": [
        "# if you want to slice through the start to an index\n"
      ]
    },
    {
      "cell_type": "code",
      "execution_count": 39,
      "metadata": {
        "id": "QLB2gkMdH4yS",
        "colab": {
          "base_uri": "https://localhost:8080/"
        },
        "outputId": "dee29c7e-cb29-40a7-a17f-eb226a593d3f"
      },
      "outputs": [
        {
          "output_type": "execute_result",
          "data": {
            "text/plain": [
              "False"
            ]
          },
          "metadata": {},
          "execution_count": 39
        }
      ],
      "source": [
        "# check if a substring is present in a string using use of keyword in and not in\n",
        "\"love\" in lang"
      ]
    },
    {
      "cell_type": "markdown",
      "metadata": {
        "id": "r1Ea9iqJH4yZ"
      },
      "source": [
        "#### String methods\n",
        "- upper() - to convert a string to upper cased\n",
        "- lower() - to convert a string to lower cased\n",
        "- strip() - to strip a perticular character in a string\n",
        "- count(substring,begin,end)\n",
        "- index and find\n",
        "- replace\n",
        "- https://docs.python.org/3.7/library/stdtypes.html#string-methods"
      ]
    },
    {
      "cell_type": "code",
      "execution_count": 40,
      "metadata": {
        "id": "5fdARzWrH4yZ",
        "colab": {
          "base_uri": "https://localhost:8080/",
          "height": 35
        },
        "outputId": "03aa7ef0-57bc-4ea6-9802-26453be691c0"
      },
      "outputs": [
        {
          "output_type": "execute_result",
          "data": {
            "text/plain": [
              "'PYTHON'"
            ],
            "application/vnd.google.colaboratory.intrinsic+json": {
              "type": "string"
            }
          },
          "metadata": {},
          "execution_count": 40
        }
      ],
      "source": [
        "# upper() method \n",
        "lang.upper()"
      ]
    },
    {
      "cell_type": "code",
      "execution_count": 41,
      "metadata": {
        "id": "u8fxNqy1H4yc",
        "colab": {
          "base_uri": "https://localhost:8080/",
          "height": 35
        },
        "outputId": "2cd245df-fc80-491e-8373-d90bf0bab993"
      },
      "outputs": [
        {
          "output_type": "execute_result",
          "data": {
            "text/plain": [
              "' i love python programming'"
            ],
            "application/vnd.google.colaboratory.intrinsic+json": {
              "type": "string"
            }
          },
          "metadata": {},
          "execution_count": 41
        }
      ],
      "source": [
        "# lower() method\n",
        "a.lower()"
      ]
    },
    {
      "cell_type": "code",
      "execution_count": 42,
      "metadata": {
        "id": "5ocs12kZH4yf",
        "colab": {
          "base_uri": "https://localhost:8080/",
          "height": 35
        },
        "outputId": "396366fb-355a-4c94-e2ef-17efdf0576d6"
      },
      "outputs": [
        {
          "output_type": "execute_result",
          "data": {
            "text/plain": [
              "'   i love python'"
            ],
            "application/vnd.google.colaboratory.intrinsic+json": {
              "type": "string"
            }
          },
          "metadata": {},
          "execution_count": 42
        }
      ],
      "source": [
        "# rstrip () function\n",
        "b=\"   i love python   \"\n",
        "b.rstrip()"
      ]
    },
    {
      "cell_type": "code",
      "execution_count": 43,
      "metadata": {
        "id": "is4swCt_H4yi",
        "colab": {
          "base_uri": "https://localhost:8080/",
          "height": 35
        },
        "outputId": "f3bd18bc-08b4-4027-8529-134853e6c2ba"
      },
      "outputs": [
        {
          "output_type": "execute_result",
          "data": {
            "text/plain": [
              "'4444'"
            ],
            "application/vnd.google.colaboratory.intrinsic+json": {
              "type": "string"
            }
          },
          "metadata": {},
          "execution_count": 43
        }
      ],
      "source": [
        "# removing the special character from the string\n",
        "p=\"@@@4444####\"\n",
        "p.rstrip('#').lstrip('@')"
      ]
    },
    {
      "cell_type": "code",
      "execution_count": 44,
      "metadata": {
        "id": "Pg-tpUwcH4ym",
        "colab": {
          "base_uri": "https://localhost:8080/",
          "height": 35
        },
        "outputId": "15f576c7-9709-4ef0-94a2-805722a4d96b"
      },
      "outputs": [
        {
          "output_type": "execute_result",
          "data": {
            "text/plain": [
              "'i love python   '"
            ],
            "application/vnd.google.colaboratory.intrinsic+json": {
              "type": "string"
            }
          },
          "metadata": {},
          "execution_count": 44
        }
      ],
      "source": [
        "# lstrip() function - remove space or character from the start\n",
        "b.lstrip()"
      ]
    },
    {
      "cell_type": "code",
      "execution_count": 45,
      "metadata": {
        "id": "_S5NKR7BH4yq",
        "colab": {
          "base_uri": "https://localhost:8080/",
          "height": 35
        },
        "outputId": "9b17e90b-7c80-4a4e-9f11-1e68d78726d8"
      },
      "outputs": [
        {
          "output_type": "execute_result",
          "data": {
            "text/plain": [
              "'i love python'"
            ],
            "application/vnd.google.colaboratory.intrinsic+json": {
              "type": "string"
            }
          },
          "metadata": {},
          "execution_count": 45
        }
      ],
      "source": [
        "# strip() function removes spaces from the start as well as end of the string\n",
        "b.strip()"
      ]
    },
    {
      "cell_type": "code",
      "execution_count": null,
      "metadata": {
        "id": "zePXgN5fH4yw",
        "scrolled": true
      },
      "outputs": [],
      "source": [
        "# using rstrip and lstrip simultaneously\n"
      ]
    },
    {
      "cell_type": "code",
      "execution_count": 46,
      "metadata": {
        "id": "8PlpEX41H4yz",
        "colab": {
          "base_uri": "https://localhost:8080/"
        },
        "outputId": "e5c3d25b-04ae-42e4-9f96-aa7e80e3daf1"
      },
      "outputs": [
        {
          "output_type": "execute_result",
          "data": {
            "text/plain": [
              "2"
            ]
          },
          "metadata": {},
          "execution_count": 46
        }
      ],
      "source": [
        "# count() Method\n",
        "b.count(\"o\")"
      ]
    },
    {
      "cell_type": "code",
      "source": [
        "# Use index string function\n"
      ],
      "metadata": {
        "id": "bSJMqKT4dWzE"
      },
      "execution_count": null,
      "outputs": []
    },
    {
      "cell_type": "code",
      "source": [
        "# Use index string function\n"
      ],
      "metadata": {
        "id": "5TXLtm4ljlR9"
      },
      "execution_count": null,
      "outputs": []
    },
    {
      "cell_type": "code",
      "source": [
        "# Use find string function\n",
        "b.find(\"python\")"
      ],
      "metadata": {
        "id": "PLpYYMLTdYAz",
        "colab": {
          "base_uri": "https://localhost:8080/"
        },
        "outputId": "fb1b8c2e-2e8e-4175-a17d-b73f92c70b22"
      },
      "execution_count": 47,
      "outputs": [
        {
          "output_type": "execute_result",
          "data": {
            "text/plain": [
              "10"
            ]
          },
          "metadata": {},
          "execution_count": 47
        }
      ]
    },
    {
      "cell_type": "code",
      "source": [
        "# Use index string function\n"
      ],
      "metadata": {
        "id": "Tm8cc0Jwjzah"
      },
      "execution_count": null,
      "outputs": []
    },
    {
      "cell_type": "code",
      "source": [
        "# Use replace string function\n",
        "b"
      ],
      "metadata": {
        "id": "0nywKBTVrDce",
        "colab": {
          "base_uri": "https://localhost:8080/",
          "height": 35
        },
        "outputId": "c8c49f04-e8d0-45a0-c131-de05ff957691"
      },
      "execution_count": 48,
      "outputs": [
        {
          "output_type": "execute_result",
          "data": {
            "text/plain": [
              "'   i love python   '"
            ],
            "application/vnd.google.colaboratory.intrinsic+json": {
              "type": "string"
            }
          },
          "metadata": {},
          "execution_count": 48
        }
      ]
    },
    {
      "cell_type": "code",
      "source": [
        "b.replace(\"python\",\"love\")"
      ],
      "metadata": {
        "colab": {
          "base_uri": "https://localhost:8080/",
          "height": 35
        },
        "id": "Xd6tZOrPCEuh",
        "outputId": "2d4f6349-725a-446d-eb4e-c4c436fd1b24"
      },
      "execution_count": 51,
      "outputs": [
        {
          "output_type": "execute_result",
          "data": {
            "text/plain": [
              "'   i love love   '"
            ],
            "application/vnd.google.colaboratory.intrinsic+json": {
              "type": "string"
            }
          },
          "metadata": {},
          "execution_count": 51
        }
      ]
    },
    {
      "cell_type": "markdown",
      "source": [
        "# Functions\n",
        "\n",
        "#### help function\n",
        "help() keyword can be used to invoke the documentation of modules, functions, classes, keywords, etc."
      ],
      "metadata": {
        "id": "nLd6HHxRRxzd"
      }
    },
    {
      "cell_type": "code",
      "source": [
        "# help function for string"
      ],
      "metadata": {
        "id": "F66NEFWdR8ad"
      },
      "execution_count": null,
      "outputs": []
    },
    {
      "cell_type": "markdown",
      "source": [
        "## Streamline Your Print\n",
        "#### using .format\n",
        ".format can be used to aesthetically format multiple substrings in a string"
      ],
      "metadata": {
        "id": "qpJSX-wLOiwn"
      }
    },
    {
      "cell_type": "code",
      "source": [
        "# It is used to specify the raw string.% It is used to perform string formatting.\n",
        "\n",
        "A = \"Data\"\n",
        "B = \"Analysis\"\n",
        "C = \"Python\"\n",
        "D = 5\n",
        "\n"
      ],
      "metadata": {
        "id": "5z3hib_AMdOZ"
      },
      "execution_count": 52,
      "outputs": []
    },
    {
      "cell_type": "code",
      "source": [
        "print(\"I am going to learn {0} {1} using {2} in {3} months\".format(A,B,C,D))"
      ],
      "metadata": {
        "id": "53hob3GEOoZ_",
        "colab": {
          "base_uri": "https://localhost:8080/"
        },
        "outputId": "ff7ca90d-c593-4373-fd9a-4da87536125b"
      },
      "execution_count": 53,
      "outputs": [
        {
          "output_type": "stream",
          "name": "stdout",
          "text": [
            "I am going to learn Data Analysis using Python in 5 months\n"
          ]
        }
      ]
    },
    {
      "cell_type": "markdown",
      "source": [
        "# Type Casting\n",
        "1. **Explicit Conversion**: Using respective function\n",
        "2. **Implicit Conversion**: Using Arithmetic Operations: We can use operations like addition, subtraction to change the type of number implicitly(automatically), if one of the operands is float. \n"
      ],
      "metadata": {
        "id": "nTKTlWMuQY8O"
      }
    },
    {
      "cell_type": "code",
      "source": [
        "### Implicit Conversion\n",
        "\n",
        "\n",
        "  \n",
        "# Addition\n",
        "   # Any time a float is added to a number, the result is another float."
      ],
      "metadata": {
        "id": "QKo_nL-vP-Zc"
      },
      "execution_count": null,
      "outputs": []
    },
    {
      "cell_type": "code",
      "source": [
        "### Explicit Conversion\n"
      ],
      "metadata": {
        "id": "DEaDh0BTai5g"
      },
      "execution_count": null,
      "outputs": []
    },
    {
      "cell_type": "code",
      "source": [],
      "metadata": {
        "id": "x1olknCFas5C"
      },
      "execution_count": null,
      "outputs": []
    }
  ]
}